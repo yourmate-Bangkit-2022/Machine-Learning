{
 "cells": [
  {
   "cell_type": "markdown",
   "id": "ade82a27-714d-4d27-b524-fdca4b0d79fa",
   "metadata": {},
   "source": [
    "# Semantic Search with Approximate Nearest Neighbors and Text Embeddings"
   ]
  },
  {
   "cell_type": "code",
   "execution_count": 2,
   "id": "4f38a502-2adb-4c18-abe7-1403532cb7ff",
   "metadata": {},
   "outputs": [],
   "source": [
    "import os\n",
    "import sys\n",
    "import pickle\n",
    "from collections import namedtuple\n",
    "from datetime import datetime\n",
    "import numpy as np\n",
    "import apache_beam as beam\n",
    "from apache_beam.transforms import util\n",
    "import tensorflow as tf\n",
    "import tensorflow_hub as hub\n",
    "import annoy\n",
    "from sklearn.random_projection import gaussian_random_matrix"
   ]
  },
  {
   "cell_type": "code",
   "execution_count": 3,
   "id": "e6523b5d-3f5a-4a98-8f6f-4af17bd5f64e",
   "metadata": {},
   "outputs": [
    {
     "name": "stdout",
     "output_type": "stream",
     "text": [
      "TF version: 2.8.0\n",
      "TF-Hub version: 0.12.0\n",
      "Apache Beam version: 2.39.0\n"
     ]
    }
   ],
   "source": [
    "print('TF version: {}'.format(tf.__version__))\n",
    "print('TF-Hub version: {}'.format(hub.__version__))\n",
    "print('Apache Beam version: {}'.format(beam.__version__))"
   ]
  },
  {
   "cell_type": "code",
   "execution_count": 11,
   "id": "a37936ff-0b36-4616-9979-e3f6a7fa3a8d",
   "metadata": {},
   "outputs": [],
   "source": [
    "with open('../../data/million-news-headline/text.txt', 'w') as out_file:\n",
    "    with open('../../data/million-news-headline/raw.tsv', 'r') as in_file:\n",
    "        next(in_file)\n",
    "        for line in in_file:\n",
    "            headline = line.split('\\t')[1].strip().strip('\"')\n",
    "            out_file.write(headline+\"\\n\")"
   ]
  },
  {
   "cell_type": "markdown",
   "id": "ef5180a6-dfd6-4353-ac50-2eb46f1b2179",
   "metadata": {},
   "source": [
    "#### Get News Headline Only"
   ]
  },
  {
   "cell_type": "code",
   "execution_count": 12,
   "id": "b8ecb2ac-2ab9-430e-a28b-9634e3b66224",
   "metadata": {},
   "outputs": [
    {
     "name": "stdout",
     "output_type": "stream",
     "text": [
      "severe storms forecast for nye in south east queensland\n",
      "snake catcher pleads for people not to kill reptiles\n",
      "south australia prepares for party to welcome new year\n",
      "strikers cool off the heat with big win in adelaide\n",
      "stunning images from the sydney to hobart yacht\n",
      "the ashes smiths warners near miss liven up boxing day test\n",
      "timelapse: brisbanes new year fireworks\n",
      "what 2017 meant to the kids of australia\n",
      "what the papodopoulos meeting may mean for ausus\n",
      "who is george papadopoulos the former trump campaign aide\n"
     ]
    }
   ],
   "source": [
    "!tail ../../data/million-news-headline/text.txt"
   ]
  },
  {
   "cell_type": "code",
   "execution_count": null,
   "id": "427a1d2d-a543-4905-a1b4-51a3e51b2282",
   "metadata": {},
   "outputs": [],
   "source": [
    "embed_fn = None\n",
    "\n",
    "def generate_embeddings(text, module_url, random_projection_matrix=None):\n",
    "  # Beam will run this function in different processes that need to\n",
    "  # import hub and load embed_fn (if not previously loaded)\n",
    "    global embed_fn\n",
    "    if embed_fn is None:\n",
    "        embed_fn = hub.load(module_url)\n",
    "    embedding = embed_fn(text).numpy()\n",
    "    if random_projection_matrix is not None:\n",
    "        embedding = embedding.dot(random_projection_matrix)\n",
    "    return text, embedding"
   ]
  }
 ],
 "metadata": {
  "kernelspec": {
   "display_name": "Python 3 (ipykernel)",
   "language": "python",
   "name": "python3"
  },
  "language_info": {
   "codemirror_mode": {
    "name": "ipython",
    "version": 3
   },
   "file_extension": ".py",
   "mimetype": "text/x-python",
   "name": "python",
   "nbconvert_exporter": "python",
   "pygments_lexer": "ipython3",
   "version": "3.7.9"
  }
 },
 "nbformat": 4,
 "nbformat_minor": 5
}
