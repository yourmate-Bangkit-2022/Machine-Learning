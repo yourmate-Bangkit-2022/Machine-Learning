{
 "cells": [
  {
   "cell_type": "markdown",
   "id": "9d976ec0-002e-4ffe-960c-7cc3e96d6db4",
   "metadata": {},
   "source": [
    "# System Recommendation - MovieLens (Neural Network)"
   ]
  },
  {
   "cell_type": "markdown",
   "id": "9c572b1b-6c0a-490d-bb1c-1e4295628dab",
   "metadata": {},
   "source": [
    "### Import Library"
   ]
  },
  {
   "cell_type": "code",
   "execution_count": 5,
   "id": "e00547d5-75b0-4923-9e3b-66586f90ef8f",
   "metadata": {},
   "outputs": [],
   "source": [
    "import pandas as pd\n",
    "import numpy as np\n",
    "import matplotlib.pyplot as plt\n",
    "import seaborn as sns\n",
    "from sklearn import model_selection\n",
    "import tensorflow as tf\n",
    "%matplotlib inline"
   ]
  },
  {
   "cell_type": "markdown",
   "id": "3989967f-af70-424a-a1f1-96530baca9fb",
   "metadata": {},
   "source": [
    "### 1. Preprocessing"
   ]
  },
  {
   "cell_type": "markdown",
   "id": "abfa5edc-334f-4226-8551-ab0306125da2",
   "metadata": {},
   "source": [
    "#### Import Data"
   ]
  },
  {
   "cell_type": "code",
   "execution_count": 6,
   "id": "71ed3257-edb8-43fa-abad-24430f3e9aca",
   "metadata": {},
   "outputs": [],
   "source": [
    "data_df = pd.read_csv('../../data/movielens/u1.base', sep='\\t', header=None, names=['User Id', 'Movie Id', 'Rating', 'Timestamp'])"
   ]
  },
  {
   "cell_type": "code",
   "execution_count": 11,
   "id": "5a1fc799-33d3-4b89-b375-1f937c3e4a9f",
   "metadata": {},
   "outputs": [
    {
     "data": {
      "text/html": [
       "<div>\n",
       "<style scoped>\n",
       "    .dataframe tbody tr th:only-of-type {\n",
       "        vertical-align: middle;\n",
       "    }\n",
       "\n",
       "    .dataframe tbody tr th {\n",
       "        vertical-align: top;\n",
       "    }\n",
       "\n",
       "    .dataframe thead th {\n",
       "        text-align: right;\n",
       "    }\n",
       "</style>\n",
       "<table border=\"1\" class=\"dataframe\">\n",
       "  <thead>\n",
       "    <tr style=\"text-align: right;\">\n",
       "      <th></th>\n",
       "      <th>User Id</th>\n",
       "      <th>Movie Id</th>\n",
       "      <th>Rating</th>\n",
       "      <th>Timestamp</th>\n",
       "    </tr>\n",
       "  </thead>\n",
       "  <tbody>\n",
       "    <tr>\n",
       "      <th>0</th>\n",
       "      <td>1</td>\n",
       "      <td>1</td>\n",
       "      <td>5</td>\n",
       "      <td>874965758</td>\n",
       "    </tr>\n",
       "    <tr>\n",
       "      <th>1</th>\n",
       "      <td>1</td>\n",
       "      <td>2</td>\n",
       "      <td>3</td>\n",
       "      <td>876893171</td>\n",
       "    </tr>\n",
       "    <tr>\n",
       "      <th>2</th>\n",
       "      <td>1</td>\n",
       "      <td>3</td>\n",
       "      <td>4</td>\n",
       "      <td>878542960</td>\n",
       "    </tr>\n",
       "    <tr>\n",
       "      <th>3</th>\n",
       "      <td>1</td>\n",
       "      <td>4</td>\n",
       "      <td>3</td>\n",
       "      <td>876893119</td>\n",
       "    </tr>\n",
       "    <tr>\n",
       "      <th>4</th>\n",
       "      <td>1</td>\n",
       "      <td>5</td>\n",
       "      <td>3</td>\n",
       "      <td>889751712</td>\n",
       "    </tr>\n",
       "  </tbody>\n",
       "</table>\n",
       "</div>"
      ],
      "text/plain": [
       "   User Id  Movie Id  Rating  Timestamp\n",
       "0        1         1       5  874965758\n",
       "1        1         2       3  876893171\n",
       "2        1         3       4  878542960\n",
       "3        1         4       3  876893119\n",
       "4        1         5       3  889751712"
      ]
     },
     "execution_count": 11,
     "metadata": {},
     "output_type": "execute_result"
    }
   ],
   "source": [
    "data_df.head()"
   ]
  },
  {
   "cell_type": "code",
   "execution_count": 12,
   "id": "1c527d22-b78e-4131-9152-3dd814487f61",
   "metadata": {},
   "outputs": [
    {
     "data": {
      "text/plain": [
       "(80000, 4)"
      ]
     },
     "execution_count": 12,
     "metadata": {},
     "output_type": "execute_result"
    }
   ],
   "source": [
    "data_df.shape"
   ]
  },
  {
   "cell_type": "code",
   "execution_count": 14,
   "id": "50664f3c-b23f-4a97-9343-b547f211a9ef",
   "metadata": {},
   "outputs": [
    {
     "name": "stdout",
     "output_type": "stream",
     "text": [
      "<class 'pandas.core.frame.DataFrame'>\n",
      "RangeIndex: 80000 entries, 0 to 79999\n",
      "Data columns (total 4 columns):\n",
      " #   Column     Non-Null Count  Dtype\n",
      "---  ------     --------------  -----\n",
      " 0   User Id    80000 non-null  int64\n",
      " 1   Movie Id   80000 non-null  int64\n",
      " 2   Rating     80000 non-null  int64\n",
      " 3   Timestamp  80000 non-null  int64\n",
      "dtypes: int64(4)\n",
      "memory usage: 2.4 MB\n"
     ]
    }
   ],
   "source": [
    "data_df.info()"
   ]
  },
  {
   "cell_type": "markdown",
   "id": "bc51285c-0d19-47db-bd5e-619f7f416c4b",
   "metadata": {},
   "source": [
    "##### Total Unique User"
   ]
  },
  {
   "cell_type": "code",
   "execution_count": 63,
   "id": "f5bc954e-6c7c-4b43-8cad-22ac70c2680a",
   "metadata": {},
   "outputs": [],
   "source": [
    "total_user = data_df['User Id'].max()"
   ]
  },
  {
   "cell_type": "code",
   "execution_count": 64,
   "id": "3a69d9a9-827c-44ab-a2ad-1aafe76aeea7",
   "metadata": {},
   "outputs": [
    {
     "data": {
      "text/plain": [
       "943"
      ]
     },
     "execution_count": 64,
     "metadata": {},
     "output_type": "execute_result"
    }
   ],
   "source": [
    "total_user"
   ]
  },
  {
   "cell_type": "markdown",
   "id": "67ed43d4-c59d-49fe-9c19-7d4756cd3e08",
   "metadata": {},
   "source": [
    "##### Total Unique Movie"
   ]
  },
  {
   "cell_type": "code",
   "execution_count": 61,
   "id": "56d5adbb-472e-458a-9880-17240a143a4a",
   "metadata": {},
   "outputs": [],
   "source": [
    "total_movie = data_df['Movie Id'].max()"
   ]
  },
  {
   "cell_type": "code",
   "execution_count": 62,
   "id": "4ea51b25-d79a-4b90-84f0-7d06c660034d",
   "metadata": {},
   "outputs": [
    {
     "data": {
      "text/plain": [
       "1682"
      ]
     },
     "execution_count": 62,
     "metadata": {},
     "output_type": "execute_result"
    }
   ],
   "source": [
    "total_movie"
   ]
  },
  {
   "cell_type": "markdown",
   "id": "187b34c9-3023-4ee1-87f2-bd90e9e84c1f",
   "metadata": {},
   "source": [
    "#### Split Data Into Training Set (80%) And Validation Set (20%)"
   ]
  },
  {
   "cell_type": "code",
   "execution_count": 76,
   "id": "efc48813-7935-4883-a1d8-bca7e4146e74",
   "metadata": {},
   "outputs": [],
   "source": [
    "train, val = model_selection.train_test_split(data_df, test_size=0.2, random_state=21)"
   ]
  },
  {
   "cell_type": "code",
   "execution_count": 36,
   "id": "32c8a876-eebb-475b-90c5-87cf4ec77750",
   "metadata": {},
   "outputs": [
    {
     "data": {
      "text/html": [
       "<div>\n",
       "<style scoped>\n",
       "    .dataframe tbody tr th:only-of-type {\n",
       "        vertical-align: middle;\n",
       "    }\n",
       "\n",
       "    .dataframe tbody tr th {\n",
       "        vertical-align: top;\n",
       "    }\n",
       "\n",
       "    .dataframe thead th {\n",
       "        text-align: right;\n",
       "    }\n",
       "</style>\n",
       "<table border=\"1\" class=\"dataframe\">\n",
       "  <thead>\n",
       "    <tr style=\"text-align: right;\">\n",
       "      <th></th>\n",
       "      <th>User Id</th>\n",
       "      <th>Movie Id</th>\n",
       "      <th>Rating</th>\n",
       "      <th>Timestamp</th>\n",
       "    </tr>\n",
       "  </thead>\n",
       "  <tbody>\n",
       "    <tr>\n",
       "      <th>3002</th>\n",
       "      <td>55</td>\n",
       "      <td>597</td>\n",
       "      <td>2</td>\n",
       "      <td>878176134</td>\n",
       "    </tr>\n",
       "    <tr>\n",
       "      <th>45402</th>\n",
       "      <td>591</td>\n",
       "      <td>740</td>\n",
       "      <td>4</td>\n",
       "      <td>891039974</td>\n",
       "    </tr>\n",
       "    <tr>\n",
       "      <th>32556</th>\n",
       "      <td>463</td>\n",
       "      <td>121</td>\n",
       "      <td>3</td>\n",
       "      <td>877385797</td>\n",
       "    </tr>\n",
       "    <tr>\n",
       "      <th>11777</th>\n",
       "      <td>222</td>\n",
       "      <td>181</td>\n",
       "      <td>4</td>\n",
       "      <td>877563168</td>\n",
       "    </tr>\n",
       "    <tr>\n",
       "      <th>14138</th>\n",
       "      <td>267</td>\n",
       "      <td>203</td>\n",
       "      <td>5</td>\n",
       "      <td>878972241</td>\n",
       "    </tr>\n",
       "    <tr>\n",
       "      <th>...</th>\n",
       "      <td>...</td>\n",
       "      <td>...</td>\n",
       "      <td>...</td>\n",
       "      <td>...</td>\n",
       "    </tr>\n",
       "    <tr>\n",
       "      <th>42104</th>\n",
       "      <td>551</td>\n",
       "      <td>182</td>\n",
       "      <td>5</td>\n",
       "      <td>892776824</td>\n",
       "    </tr>\n",
       "    <tr>\n",
       "      <th>63856</th>\n",
       "      <td>786</td>\n",
       "      <td>82</td>\n",
       "      <td>4</td>\n",
       "      <td>882844096</td>\n",
       "    </tr>\n",
       "    <tr>\n",
       "      <th>8964</th>\n",
       "      <td>174</td>\n",
       "      <td>9</td>\n",
       "      <td>5</td>\n",
       "      <td>886439492</td>\n",
       "    </tr>\n",
       "    <tr>\n",
       "      <th>71480</th>\n",
       "      <td>866</td>\n",
       "      <td>889</td>\n",
       "      <td>2</td>\n",
       "      <td>891221006</td>\n",
       "    </tr>\n",
       "    <tr>\n",
       "      <th>70863</th>\n",
       "      <td>862</td>\n",
       "      <td>132</td>\n",
       "      <td>5</td>\n",
       "      <td>879304980</td>\n",
       "    </tr>\n",
       "  </tbody>\n",
       "</table>\n",
       "<p>64000 rows × 4 columns</p>\n",
       "</div>"
      ],
      "text/plain": [
       "       User Id  Movie Id  Rating  Timestamp\n",
       "3002        55       597       2  878176134\n",
       "45402      591       740       4  891039974\n",
       "32556      463       121       3  877385797\n",
       "11777      222       181       4  877563168\n",
       "14138      267       203       5  878972241\n",
       "...        ...       ...     ...        ...\n",
       "42104      551       182       5  892776824\n",
       "63856      786        82       4  882844096\n",
       "8964       174         9       5  886439492\n",
       "71480      866       889       2  891221006\n",
       "70863      862       132       5  879304980\n",
       "\n",
       "[64000 rows x 4 columns]"
      ]
     },
     "execution_count": 36,
     "metadata": {},
     "output_type": "execute_result"
    }
   ],
   "source": [
    "train"
   ]
  },
  {
   "cell_type": "code",
   "execution_count": 9,
   "id": "9b5fe36a-3e24-4275-ad97-38ca683bd594",
   "metadata": {},
   "outputs": [
    {
     "data": {
      "text/plain": [
       "(64000, 4)"
      ]
     },
     "execution_count": 9,
     "metadata": {},
     "output_type": "execute_result"
    }
   ],
   "source": [
    "train.shape"
   ]
  },
  {
   "cell_type": "code",
   "execution_count": 80,
   "id": "28de8ebd-33b8-42b9-a2f9-f44644fdcb5d",
   "metadata": {},
   "outputs": [
    {
     "data": {
      "text/html": [
       "<div>\n",
       "<style scoped>\n",
       "    .dataframe tbody tr th:only-of-type {\n",
       "        vertical-align: middle;\n",
       "    }\n",
       "\n",
       "    .dataframe tbody tr th {\n",
       "        vertical-align: top;\n",
       "    }\n",
       "\n",
       "    .dataframe thead th {\n",
       "        text-align: right;\n",
       "    }\n",
       "</style>\n",
       "<table border=\"1\" class=\"dataframe\">\n",
       "  <thead>\n",
       "    <tr style=\"text-align: right;\">\n",
       "      <th></th>\n",
       "      <th>User Id</th>\n",
       "      <th>Movie Id</th>\n",
       "      <th>Rating</th>\n",
       "      <th>Timestamp</th>\n",
       "    </tr>\n",
       "  </thead>\n",
       "  <tbody>\n",
       "    <tr>\n",
       "      <th>238</th>\n",
       "      <td>5</td>\n",
       "      <td>181</td>\n",
       "      <td>5</td>\n",
       "      <td>875635757</td>\n",
       "    </tr>\n",
       "    <tr>\n",
       "      <th>77599</th>\n",
       "      <td>918</td>\n",
       "      <td>638</td>\n",
       "      <td>4</td>\n",
       "      <td>891987267</td>\n",
       "    </tr>\n",
       "    <tr>\n",
       "      <th>77838</th>\n",
       "      <td>919</td>\n",
       "      <td>1119</td>\n",
       "      <td>3</td>\n",
       "      <td>875373824</td>\n",
       "    </tr>\n",
       "    <tr>\n",
       "      <th>59804</th>\n",
       "      <td>740</td>\n",
       "      <td>328</td>\n",
       "      <td>3</td>\n",
       "      <td>879522814</td>\n",
       "    </tr>\n",
       "    <tr>\n",
       "      <th>71338</th>\n",
       "      <td>864</td>\n",
       "      <td>684</td>\n",
       "      <td>4</td>\n",
       "      <td>888887289</td>\n",
       "    </tr>\n",
       "    <tr>\n",
       "      <th>...</th>\n",
       "      <td>...</td>\n",
       "      <td>...</td>\n",
       "      <td>...</td>\n",
       "      <td>...</td>\n",
       "    </tr>\n",
       "    <tr>\n",
       "      <th>7542</th>\n",
       "      <td>137</td>\n",
       "      <td>121</td>\n",
       "      <td>5</td>\n",
       "      <td>881432881</td>\n",
       "    </tr>\n",
       "    <tr>\n",
       "      <th>37198</th>\n",
       "      <td>504</td>\n",
       "      <td>504</td>\n",
       "      <td>4</td>\n",
       "      <td>887909890</td>\n",
       "    </tr>\n",
       "    <tr>\n",
       "      <th>46405</th>\n",
       "      <td>601</td>\n",
       "      <td>834</td>\n",
       "      <td>1</td>\n",
       "      <td>876348381</td>\n",
       "    </tr>\n",
       "    <tr>\n",
       "      <th>44981</th>\n",
       "      <td>587</td>\n",
       "      <td>682</td>\n",
       "      <td>3</td>\n",
       "      <td>892871372</td>\n",
       "    </tr>\n",
       "    <tr>\n",
       "      <th>5690</th>\n",
       "      <td>95</td>\n",
       "      <td>237</td>\n",
       "      <td>2</td>\n",
       "      <td>879192708</td>\n",
       "    </tr>\n",
       "  </tbody>\n",
       "</table>\n",
       "<p>16000 rows × 4 columns</p>\n",
       "</div>"
      ],
      "text/plain": [
       "       User Id  Movie Id  Rating  Timestamp\n",
       "238          5       181       5  875635757\n",
       "77599      918       638       4  891987267\n",
       "77838      919      1119       3  875373824\n",
       "59804      740       328       3  879522814\n",
       "71338      864       684       4  888887289\n",
       "...        ...       ...     ...        ...\n",
       "7542       137       121       5  881432881\n",
       "37198      504       504       4  887909890\n",
       "46405      601       834       1  876348381\n",
       "44981      587       682       3  892871372\n",
       "5690        95       237       2  879192708\n",
       "\n",
       "[16000 rows x 4 columns]"
      ]
     },
     "execution_count": 80,
     "metadata": {},
     "output_type": "execute_result"
    }
   ],
   "source": [
    "val"
   ]
  },
  {
   "cell_type": "code",
   "execution_count": 81,
   "id": "62bcaff1-7c7f-4084-9014-5298ed081b21",
   "metadata": {},
   "outputs": [
    {
     "data": {
      "text/plain": [
       "(16000, 4)"
      ]
     },
     "execution_count": 81,
     "metadata": {},
     "output_type": "execute_result"
    }
   ],
   "source": [
    "val.shape"
   ]
  },
  {
   "cell_type": "markdown",
   "id": "e7f679ee-0d9c-4e2e-8e2e-5a05ad736005",
   "metadata": {},
   "source": [
    "#### Import Test Set"
   ]
  },
  {
   "cell_type": "code",
   "execution_count": 77,
   "id": "cb740093-a2f7-4ad2-b60b-250ef7fdd0e3",
   "metadata": {},
   "outputs": [],
   "source": [
    "test = pd.read_csv('../../data/movielens/u1.test', sep='\\t', header=None, names=['User Id', 'Movie Id', 'Rating', 'Timestamp'])"
   ]
  },
  {
   "cell_type": "code",
   "execution_count": 78,
   "id": "08b7f8f1-29fe-4082-af26-d9e6655a52b3",
   "metadata": {},
   "outputs": [
    {
     "data": {
      "text/html": [
       "<div>\n",
       "<style scoped>\n",
       "    .dataframe tbody tr th:only-of-type {\n",
       "        vertical-align: middle;\n",
       "    }\n",
       "\n",
       "    .dataframe tbody tr th {\n",
       "        vertical-align: top;\n",
       "    }\n",
       "\n",
       "    .dataframe thead th {\n",
       "        text-align: right;\n",
       "    }\n",
       "</style>\n",
       "<table border=\"1\" class=\"dataframe\">\n",
       "  <thead>\n",
       "    <tr style=\"text-align: right;\">\n",
       "      <th></th>\n",
       "      <th>User Id</th>\n",
       "      <th>Movie Id</th>\n",
       "      <th>Rating</th>\n",
       "      <th>Timestamp</th>\n",
       "    </tr>\n",
       "  </thead>\n",
       "  <tbody>\n",
       "    <tr>\n",
       "      <th>0</th>\n",
       "      <td>1</td>\n",
       "      <td>6</td>\n",
       "      <td>5</td>\n",
       "      <td>887431973</td>\n",
       "    </tr>\n",
       "    <tr>\n",
       "      <th>1</th>\n",
       "      <td>1</td>\n",
       "      <td>10</td>\n",
       "      <td>3</td>\n",
       "      <td>875693118</td>\n",
       "    </tr>\n",
       "    <tr>\n",
       "      <th>2</th>\n",
       "      <td>1</td>\n",
       "      <td>12</td>\n",
       "      <td>5</td>\n",
       "      <td>878542960</td>\n",
       "    </tr>\n",
       "    <tr>\n",
       "      <th>3</th>\n",
       "      <td>1</td>\n",
       "      <td>14</td>\n",
       "      <td>5</td>\n",
       "      <td>874965706</td>\n",
       "    </tr>\n",
       "    <tr>\n",
       "      <th>4</th>\n",
       "      <td>1</td>\n",
       "      <td>17</td>\n",
       "      <td>3</td>\n",
       "      <td>875073198</td>\n",
       "    </tr>\n",
       "  </tbody>\n",
       "</table>\n",
       "</div>"
      ],
      "text/plain": [
       "   User Id  Movie Id  Rating  Timestamp\n",
       "0        1         6       5  887431973\n",
       "1        1        10       3  875693118\n",
       "2        1        12       5  878542960\n",
       "3        1        14       5  874965706\n",
       "4        1        17       3  875073198"
      ]
     },
     "execution_count": 78,
     "metadata": {},
     "output_type": "execute_result"
    }
   ],
   "source": [
    "test.head()"
   ]
  },
  {
   "cell_type": "code",
   "execution_count": 79,
   "id": "9f883524-ff05-45d9-9c10-f4cf65495651",
   "metadata": {},
   "outputs": [
    {
     "data": {
      "text/plain": [
       "(20000, 4)"
      ]
     },
     "execution_count": 79,
     "metadata": {},
     "output_type": "execute_result"
    }
   ],
   "source": [
    "test.shape"
   ]
  },
  {
   "cell_type": "markdown",
   "id": "f2f52b51-7daa-4307-bdf9-c535b5b936fe",
   "metadata": {},
   "source": [
    "### 2. Implement Neural Network Model"
   ]
  },
  {
   "cell_type": "markdown",
   "id": "553aecc1-281f-4220-8f6c-eec1a84c5d10",
   "metadata": {},
   "source": [
    "#### Create Embedding Layer For Movie"
   ]
  },
  {
   "cell_type": "code",
   "execution_count": 65,
   "id": "aab1ed17-949a-4388-a247-56ad3e40551e",
   "metadata": {},
   "outputs": [],
   "source": [
    "movie_input = tf.keras.layers.Input(shape=[1], name='Movie-Input')\n",
    "movie_embedding = tf.keras.layers.Embedding(total_movie + 1, 5, name='Movie-Embedding')(movie_input)\n",
    "movie_vec = tf.keras.layers.Flatten(name='Flatten-Movie')(movie_embedding)"
   ]
  },
  {
   "cell_type": "markdown",
   "id": "92adebf9-cc6b-4775-85c0-33caa71d685c",
   "metadata": {},
   "source": [
    "#### Create Embedding Layer For User"
   ]
  },
  {
   "cell_type": "code",
   "execution_count": 66,
   "id": "052d6f71-e571-40c3-9b89-861158e2e2d5",
   "metadata": {},
   "outputs": [],
   "source": [
    "user_input = tf.keras.layers.Input(shape=[1], name='User-Input')\n",
    "user_embedding = tf.keras.layers.Embedding(total_user + 1, 5, name='User-Embedding')(user_input)\n",
    "user_vec = tf.keras.layers.Flatten(name='Flatten-User')(user_embedding)"
   ]
  },
  {
   "cell_type": "markdown",
   "id": "f9f404ee-6264-4c49-aa3c-43be8ca7bd23",
   "metadata": {},
   "source": [
    "#### Concat Movie Vector Layer & User Vector Layer"
   ]
  },
  {
   "cell_type": "code",
   "execution_count": 53,
   "id": "6c6647fb-0000-4780-9f1c-809fdbdd5576",
   "metadata": {},
   "outputs": [],
   "source": [
    "conc = tf.keras.layers.Concatenate()([movie_vec, user_vec])"
   ]
  },
  {
   "cell_type": "markdown",
   "id": "8d26dd6c-daa3-4db9-9158-324ecbcfd396",
   "metadata": {},
   "source": [
    "#### Create Fully Connected Layer"
   ]
  },
  {
   "cell_type": "code",
   "execution_count": 54,
   "id": "0f20ba9d-f061-4437-ae37-079ebd9448d0",
   "metadata": {},
   "outputs": [],
   "source": [
    "dense_1 = tf.keras.layers.Dense(128, activation='relu')(conc)\n",
    "dense_2 = tf.keras.layers.Dense(64, activation='relu')(dense_1)\n",
    "out = tf.keras.layers.Dense(1)(dense_2)"
   ]
  },
  {
   "cell_type": "markdown",
   "id": "ff584ac5-c2fc-4d50-94d2-4123da0a5e66",
   "metadata": {},
   "source": [
    "#### Compile Model"
   ]
  },
  {
   "cell_type": "code",
   "execution_count": 55,
   "id": "e46a0a0e-1b9c-4c0b-a97d-f46d3761fdfa",
   "metadata": {},
   "outputs": [],
   "source": [
    "model = tf.keras.models.Model([user_input, movie_input], out)\n",
    "model.compile('adam', 'mean_squared_error')"
   ]
  },
  {
   "cell_type": "code",
   "execution_count": 56,
   "id": "d1c452cc-71fc-424a-97ad-89ecb21319ae",
   "metadata": {},
   "outputs": [
    {
     "name": "stdout",
     "output_type": "stream",
     "text": [
      "Model: \"model_2\"\n",
      "__________________________________________________________________________________________________\n",
      " Layer (type)                   Output Shape         Param #     Connected to                     \n",
      "==================================================================================================\n",
      " Movie-Input (InputLayer)       [(None, 1)]          0           []                               \n",
      "                                                                                                  \n",
      " User-Input (InputLayer)        [(None, 1)]          0           []                               \n",
      "                                                                                                  \n",
      " Movie-Embedding (Embedding)    (None, 1, 5)         8415        ['Movie-Input[0][0]']            \n",
      "                                                                                                  \n",
      " User-Embedding (Embedding)     (None, 1, 5)         4720        ['User-Input[0][0]']             \n",
      "                                                                                                  \n",
      " Flatten-Movie (Flatten)        (None, 5)            0           ['Movie-Embedding[0][0]']        \n",
      "                                                                                                  \n",
      " Flatten-User (Flatten)         (None, 5)            0           ['User-Embedding[0][0]']         \n",
      "                                                                                                  \n",
      " concatenate_1 (Concatenate)    (None, 10)           0           ['Flatten-Movie[0][0]',          \n",
      "                                                                  'Flatten-User[0][0]']           \n",
      "                                                                                                  \n",
      " dense_3 (Dense)                (None, 128)          1408        ['concatenate_1[0][0]']          \n",
      "                                                                                                  \n",
      " dense_4 (Dense)                (None, 64)           8256        ['dense_3[0][0]']                \n",
      "                                                                                                  \n",
      " dense_5 (Dense)                (None, 1)            65          ['dense_4[0][0]']                \n",
      "                                                                                                  \n",
      "==================================================================================================\n",
      "Total params: 22,864\n",
      "Trainable params: 22,864\n",
      "Non-trainable params: 0\n",
      "__________________________________________________________________________________________________\n"
     ]
    }
   ],
   "source": [
    "model.summary()"
   ]
  },
  {
   "cell_type": "markdown",
   "id": "edbbc31f-2358-4d36-8387-808d27e2bb7d",
   "metadata": {},
   "source": [
    "#### Train Model"
   ]
  },
  {
   "cell_type": "code",
   "execution_count": 82,
   "id": "c4fdd582-a1fe-4bab-807b-3c34979f44ef",
   "metadata": {},
   "outputs": [
    {
     "name": "stdout",
     "output_type": "stream",
     "text": [
      "Epoch 1/25\n",
      "2000/2000 [==============================] - 3s 1ms/step - loss: 0.5574 - val_loss: 1.0522\n",
      "Epoch 2/25\n",
      "2000/2000 [==============================] - 3s 1ms/step - loss: 0.5556 - val_loss: 1.0078\n",
      "Epoch 3/25\n",
      "2000/2000 [==============================] - 3s 1ms/step - loss: 0.5544 - val_loss: 1.0122\n",
      "Epoch 4/25\n",
      "2000/2000 [==============================] - 3s 1ms/step - loss: 0.5512 - val_loss: 1.0453\n",
      "Epoch 5/25\n",
      "2000/2000 [==============================] - 3s 1ms/step - loss: 0.5505 - val_loss: 1.0068\n",
      "Epoch 6/25\n",
      "2000/2000 [==============================] - 3s 1ms/step - loss: 0.5477 - val_loss: 1.0150\n",
      "Epoch 7/25\n",
      "2000/2000 [==============================] - 3s 1ms/step - loss: 0.5471 - val_loss: 1.0403\n",
      "Epoch 8/25\n",
      "2000/2000 [==============================] - 3s 1ms/step - loss: 0.5442 - val_loss: 1.0266\n",
      "Epoch 9/25\n",
      "2000/2000 [==============================] - 3s 1ms/step - loss: 0.5429 - val_loss: 1.0420\n",
      "Epoch 10/25\n",
      "2000/2000 [==============================] - 3s 1ms/step - loss: 0.5415 - val_loss: 1.0177\n",
      "Epoch 11/25\n",
      "2000/2000 [==============================] - 3s 1ms/step - loss: 0.5383 - val_loss: 1.0302\n",
      "Epoch 12/25\n",
      "2000/2000 [==============================] - 3s 1ms/step - loss: 0.5373 - val_loss: 1.0376\n",
      "Epoch 13/25\n",
      "2000/2000 [==============================] - 3s 1ms/step - loss: 0.5350 - val_loss: 1.0502\n",
      "Epoch 14/25\n",
      "2000/2000 [==============================] - 3s 1ms/step - loss: 0.5339 - val_loss: 1.0462\n",
      "Epoch 15/25\n",
      "2000/2000 [==============================] - 3s 1ms/step - loss: 0.5322 - val_loss: 1.0326\n",
      "Epoch 16/25\n",
      "2000/2000 [==============================] - 3s 1ms/step - loss: 0.5317 - val_loss: 1.0359\n",
      "Epoch 17/25\n",
      "2000/2000 [==============================] - 3s 1ms/step - loss: 0.5289 - val_loss: 1.0458\n",
      "Epoch 18/25\n",
      "2000/2000 [==============================] - 3s 1ms/step - loss: 0.5270 - val_loss: 1.0772\n",
      "Epoch 19/25\n",
      "2000/2000 [==============================] - 3s 1ms/step - loss: 0.5253 - val_loss: 1.0662\n",
      "Epoch 20/25\n",
      "2000/2000 [==============================] - 3s 1ms/step - loss: 0.5250 - val_loss: 1.0672\n",
      "Epoch 21/25\n",
      "2000/2000 [==============================] - 3s 1ms/step - loss: 0.5226 - val_loss: 1.0506\n",
      "Epoch 22/25\n",
      "2000/2000 [==============================] - 3s 1ms/step - loss: 0.5212 - val_loss: 1.0677\n",
      "Epoch 23/25\n",
      "2000/2000 [==============================] - 3s 1ms/step - loss: 0.5206 - val_loss: 1.0633\n",
      "Epoch 24/25\n",
      "2000/2000 [==============================] - 3s 1ms/step - loss: 0.5185 - val_loss: 1.0575\n",
      "Epoch 25/25\n",
      "2000/2000 [==============================] - 3s 1ms/step - loss: 0.5172 - val_loss: 1.0606\n"
     ]
    }
   ],
   "source": [
    "history = model.fit([train['User Id'], train['Movie Id']], train['Rating'], validation_data=([val['User Id'], val['Movie Id']], val['Rating']), epochs=25, verbose=1)"
   ]
  },
  {
   "cell_type": "code",
   "execution_count": 83,
   "id": "64031df5-e60f-4e49-9034-7e418945ded7",
   "metadata": {},
   "outputs": [
    {
     "data": {
      "image/png": "[encoded data removed]",
      "text/plain": [
       "<Figure size 576x360 with 1 Axes>"
      ]
     },
     "metadata": {},
     "output_type": "display_data"
    }
   ],
   "source": [
    "sns.set(rc={'figure.figsize':(8,5)})\n",
    "sns.set(font_scale = 1.5)\n",
    "\n",
    "plt.plot(history.history['loss'], label=\"Train\")\n",
    "plt.title('Learning curves')\n",
    "plt.xlabel('Epoch')\n",
    "plt.ylabel('Error')\n",
    "leg = plt.legend(loc='best', shadow=True, fancybox=True)"
   ]
  },
  {
   "cell_type": "markdown",
   "id": "a2ede6fb-f54c-49f2-8bd8-86be8eab027c",
   "metadata": {},
   "source": [
    "#### Evaluate Model"
   ]
  },
  {
   "cell_type": "code",
   "execution_count": 84,
   "id": "72d493ca-ac6d-4cc6-b3ff-886a30c6b7d9",
   "metadata": {},
   "outputs": [
    {
     "name": "stdout",
     "output_type": "stream",
     "text": [
      "625/625 [==============================] - 1s 858us/step - loss: 1.1363\n"
     ]
    },
    {
     "data": {
      "text/plain": [
       "1.1363468170166016"
      ]
     },
     "execution_count": 84,
     "metadata": {},
     "output_type": "execute_result"
    }
   ],
   "source": [
    "model.evaluate([test['User Id'], test['Movie Id']], test['Rating'])"
   ]
  },
  {
   "cell_type": "code",
   "execution_count": null,
   "id": "fb3241ae-1e93-4a2d-b5ae-626266b90894",
   "metadata": {},
   "outputs": [],
   "source": []
  }
 ],
 "metadata": {
  "kernelspec": {
   "display_name": "Python 3 (ipykernel)",
   "language": "python",
   "name": "python3"
  },
  "language_info": {
   "codemirror_mode": {
    "name": "ipython",
    "version": 3
   },
   "file_extension": ".py",
   "mimetype": "text/x-python",
   "name": "python",
   "nbconvert_exporter": "python",
   "pygments_lexer": "ipython3",
   "version": "3.7.9"
  }
 },
 "nbformat": 4,
 "nbformat_minor": 5
}
