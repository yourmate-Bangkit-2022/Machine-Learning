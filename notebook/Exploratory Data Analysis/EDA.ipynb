{
 "cells": [
  {
   "cell_type": "markdown",
   "id": "12dffd63-242c-4033-9c02-ebd3c7a3eafa",
   "metadata": {},
   "source": [
    "# Exploratory Data Analysis (EDA)"
   ]
  },
  {
   "cell_type": "markdown",
   "id": "7a5fc4f1-a922-4df5-b1e9-bc21f7abe798",
   "metadata": {},
   "source": [
    "## Import Library"
   ]
  },
  {
   "cell_type": "code",
   "execution_count": 1,
   "id": "92002e70-ed73-462a-8f71-bea6ddffe163",
   "metadata": {},
   "outputs": [],
   "source": [
    "import pandas as pd\n",
    "import numpy as np\n",
    "import matplotlib.pyplot as plt"
   ]
  },
  {
   "cell_type": "markdown",
   "id": "ba042db2-a2e9-4968-975b-c54050080727",
   "metadata": {},
   "source": [
    "### MovieLens Dataset"
   ]
  },
  {
   "cell_type": "markdown",
   "id": "e883fcf6-fdd9-43a1-a976-df13437f1d0e",
   "metadata": {},
   "source": [
    "#### Movies"
   ]
  },
  {
   "cell_type": "code",
   "execution_count": 17,
   "id": "79a406af-8eb6-4bf5-b506-fab9d20ff968",
   "metadata": {},
   "outputs": [],
   "source": [
    "movie_df = pd.read_csv(\"../../data-raw/movielens-rating/movies-9k.csv\")"
   ]
  },
  {
   "cell_type": "code",
   "execution_count": 18,
   "id": "402e085c-8cb9-47b8-b781-6a17fc8eb929",
   "metadata": {},
   "outputs": [
    {
     "data": {
      "text/html": [
       "<div>\n",
       "<style scoped>\n",
       "    .dataframe tbody tr th:only-of-type {\n",
       "        vertical-align: middle;\n",
       "    }\n",
       "\n",
       "    .dataframe tbody tr th {\n",
       "        vertical-align: top;\n",
       "    }\n",
       "\n",
       "    .dataframe thead th {\n",
       "        text-align: right;\n",
       "    }\n",
       "</style>\n",
       "<table border=\"1\" class=\"dataframe\">\n",
       "  <thead>\n",
       "    <tr style=\"text-align: right;\">\n",
       "      <th></th>\n",
       "      <th>movieId</th>\n",
       "      <th>title</th>\n",
       "      <th>genres</th>\n",
       "    </tr>\n",
       "  </thead>\n",
       "  <tbody>\n",
       "    <tr>\n",
       "      <th>0</th>\n",
       "      <td>1</td>\n",
       "      <td>Toy Story (1995)</td>\n",
       "      <td>Adventure|Animation|Children|Comedy|Fantasy</td>\n",
       "    </tr>\n",
       "    <tr>\n",
       "      <th>1</th>\n",
       "      <td>2</td>\n",
       "      <td>Jumanji (1995)</td>\n",
       "      <td>Adventure|Children|Fantasy</td>\n",
       "    </tr>\n",
       "    <tr>\n",
       "      <th>2</th>\n",
       "      <td>3</td>\n",
       "      <td>Grumpier Old Men (1995)</td>\n",
       "      <td>Comedy|Romance</td>\n",
       "    </tr>\n",
       "    <tr>\n",
       "      <th>3</th>\n",
       "      <td>4</td>\n",
       "      <td>Waiting to Exhale (1995)</td>\n",
       "      <td>Comedy|Drama|Romance</td>\n",
       "    </tr>\n",
       "    <tr>\n",
       "      <th>4</th>\n",
       "      <td>5</td>\n",
       "      <td>Father of the Bride Part II (1995)</td>\n",
       "      <td>Comedy</td>\n",
       "    </tr>\n",
       "    <tr>\n",
       "      <th>...</th>\n",
       "      <td>...</td>\n",
       "      <td>...</td>\n",
       "      <td>...</td>\n",
       "    </tr>\n",
       "    <tr>\n",
       "      <th>9737</th>\n",
       "      <td>193581</td>\n",
       "      <td>Black Butler: Book of the Atlantic (2017)</td>\n",
       "      <td>Action|Animation|Comedy|Fantasy</td>\n",
       "    </tr>\n",
       "    <tr>\n",
       "      <th>9738</th>\n",
       "      <td>193583</td>\n",
       "      <td>No Game No Life: Zero (2017)</td>\n",
       "      <td>Animation|Comedy|Fantasy</td>\n",
       "    </tr>\n",
       "    <tr>\n",
       "      <th>9739</th>\n",
       "      <td>193585</td>\n",
       "      <td>Flint (2017)</td>\n",
       "      <td>Drama</td>\n",
       "    </tr>\n",
       "    <tr>\n",
       "      <th>9740</th>\n",
       "      <td>193587</td>\n",
       "      <td>Bungo Stray Dogs: Dead Apple (2018)</td>\n",
       "      <td>Action|Animation</td>\n",
       "    </tr>\n",
       "    <tr>\n",
       "      <th>9741</th>\n",
       "      <td>193609</td>\n",
       "      <td>Andrew Dice Clay: Dice Rules (1991)</td>\n",
       "      <td>Comedy</td>\n",
       "    </tr>\n",
       "  </tbody>\n",
       "</table>\n",
       "<p>9742 rows × 3 columns</p>\n",
       "</div>"
      ],
      "text/plain": [
       "      movieId                                      title  \\\n",
       "0           1                           Toy Story (1995)   \n",
       "1           2                             Jumanji (1995)   \n",
       "2           3                    Grumpier Old Men (1995)   \n",
       "3           4                   Waiting to Exhale (1995)   \n",
       "4           5         Father of the Bride Part II (1995)   \n",
       "...       ...                                        ...   \n",
       "9737   193581  Black Butler: Book of the Atlantic (2017)   \n",
       "9738   193583               No Game No Life: Zero (2017)   \n",
       "9739   193585                               Flint (2017)   \n",
       "9740   193587        Bungo Stray Dogs: Dead Apple (2018)   \n",
       "9741   193609        Andrew Dice Clay: Dice Rules (1991)   \n",
       "\n",
       "                                           genres  \n",
       "0     Adventure|Animation|Children|Comedy|Fantasy  \n",
       "1                      Adventure|Children|Fantasy  \n",
       "2                                  Comedy|Romance  \n",
       "3                            Comedy|Drama|Romance  \n",
       "4                                          Comedy  \n",
       "...                                           ...  \n",
       "9737              Action|Animation|Comedy|Fantasy  \n",
       "9738                     Animation|Comedy|Fantasy  \n",
       "9739                                        Drama  \n",
       "9740                             Action|Animation  \n",
       "9741                                       Comedy  \n",
       "\n",
       "[9742 rows x 3 columns]"
      ]
     },
     "execution_count": 18,
     "metadata": {},
     "output_type": "execute_result"
    }
   ],
   "source": [
    "movie_df"
   ]
  },
  {
   "cell_type": "markdown",
   "id": "1da4213a-b7ae-4528-a305-dbccea1fa7f0",
   "metadata": {},
   "source": [
    "#### Ratings"
   ]
  },
  {
   "cell_type": "code",
   "execution_count": 19,
   "id": "075d4ffa-8bd1-4f47-810e-daecaef8cc38",
   "metadata": {},
   "outputs": [],
   "source": [
    "rating_df = pd.read_csv(\"../../data-raw/movielens-rating/ratings-100k.csv\")"
   ]
  },
  {
   "cell_type": "code",
   "execution_count": 20,
   "id": "3a47935a-44e7-403e-9184-a65886295cf6",
   "metadata": {},
   "outputs": [
    {
     "data": {
      "text/html": [
       "<div>\n",
       "<style scoped>\n",
       "    .dataframe tbody tr th:only-of-type {\n",
       "        vertical-align: middle;\n",
       "    }\n",
       "\n",
       "    .dataframe tbody tr th {\n",
       "        vertical-align: top;\n",
       "    }\n",
       "\n",
       "    .dataframe thead th {\n",
       "        text-align: right;\n",
       "    }\n",
       "</style>\n",
       "<table border=\"1\" class=\"dataframe\">\n",
       "  <thead>\n",
       "    <tr style=\"text-align: right;\">\n",
       "      <th></th>\n",
       "      <th>userId</th>\n",
       "      <th>movieId</th>\n",
       "      <th>rating</th>\n",
       "      <th>timestamp</th>\n",
       "    </tr>\n",
       "  </thead>\n",
       "  <tbody>\n",
       "    <tr>\n",
       "      <th>0</th>\n",
       "      <td>1</td>\n",
       "      <td>1</td>\n",
       "      <td>4.0</td>\n",
       "      <td>964982703</td>\n",
       "    </tr>\n",
       "    <tr>\n",
       "      <th>1</th>\n",
       "      <td>1</td>\n",
       "      <td>3</td>\n",
       "      <td>4.0</td>\n",
       "      <td>964981247</td>\n",
       "    </tr>\n",
       "    <tr>\n",
       "      <th>2</th>\n",
       "      <td>1</td>\n",
       "      <td>6</td>\n",
       "      <td>4.0</td>\n",
       "      <td>964982224</td>\n",
       "    </tr>\n",
       "    <tr>\n",
       "      <th>3</th>\n",
       "      <td>1</td>\n",
       "      <td>47</td>\n",
       "      <td>5.0</td>\n",
       "      <td>964983815</td>\n",
       "    </tr>\n",
       "    <tr>\n",
       "      <th>4</th>\n",
       "      <td>1</td>\n",
       "      <td>50</td>\n",
       "      <td>5.0</td>\n",
       "      <td>964982931</td>\n",
       "    </tr>\n",
       "    <tr>\n",
       "      <th>...</th>\n",
       "      <td>...</td>\n",
       "      <td>...</td>\n",
       "      <td>...</td>\n",
       "      <td>...</td>\n",
       "    </tr>\n",
       "    <tr>\n",
       "      <th>100831</th>\n",
       "      <td>610</td>\n",
       "      <td>166534</td>\n",
       "      <td>4.0</td>\n",
       "      <td>1493848402</td>\n",
       "    </tr>\n",
       "    <tr>\n",
       "      <th>100832</th>\n",
       "      <td>610</td>\n",
       "      <td>168248</td>\n",
       "      <td>5.0</td>\n",
       "      <td>1493850091</td>\n",
       "    </tr>\n",
       "    <tr>\n",
       "      <th>100833</th>\n",
       "      <td>610</td>\n",
       "      <td>168250</td>\n",
       "      <td>5.0</td>\n",
       "      <td>1494273047</td>\n",
       "    </tr>\n",
       "    <tr>\n",
       "      <th>100834</th>\n",
       "      <td>610</td>\n",
       "      <td>168252</td>\n",
       "      <td>5.0</td>\n",
       "      <td>1493846352</td>\n",
       "    </tr>\n",
       "    <tr>\n",
       "      <th>100835</th>\n",
       "      <td>610</td>\n",
       "      <td>170875</td>\n",
       "      <td>3.0</td>\n",
       "      <td>1493846415</td>\n",
       "    </tr>\n",
       "  </tbody>\n",
       "</table>\n",
       "<p>100836 rows × 4 columns</p>\n",
       "</div>"
      ],
      "text/plain": [
       "        userId  movieId  rating   timestamp\n",
       "0            1        1     4.0   964982703\n",
       "1            1        3     4.0   964981247\n",
       "2            1        6     4.0   964982224\n",
       "3            1       47     5.0   964983815\n",
       "4            1       50     5.0   964982931\n",
       "...        ...      ...     ...         ...\n",
       "100831     610   166534     4.0  1493848402\n",
       "100832     610   168248     5.0  1493850091\n",
       "100833     610   168250     5.0  1494273047\n",
       "100834     610   168252     5.0  1493846352\n",
       "100835     610   170875     3.0  1493846415\n",
       "\n",
       "[100836 rows x 4 columns]"
      ]
     },
     "execution_count": 20,
     "metadata": {},
     "output_type": "execute_result"
    }
   ],
   "source": [
    "rating_df"
   ]
  },
  {
   "cell_type": "markdown",
   "id": "9643a058-003a-4cf5-a812-2a435608816f",
   "metadata": {},
   "source": [
    "#### Split Genres Into Multiple Rows"
   ]
  },
  {
   "cell_type": "code",
   "execution_count": 21,
   "id": "88e31313-9aee-43a9-ab3b-ea5e1bc2a199",
   "metadata": {},
   "outputs": [],
   "source": [
    "movie_df = movie_df.assign(genres=movie_df['genres'].str.split('|'))"
   ]
  },
  {
   "cell_type": "code",
   "execution_count": 22,
   "id": "92899dea-e9c7-437e-ad3d-21022135da3d",
   "metadata": {},
   "outputs": [],
   "source": [
    "movie_df = movie_df.explode('genres', ignore_index=True)"
   ]
  },
  {
   "cell_type": "markdown",
   "id": "3c62657b-696d-4467-b773-6430b9c730a2",
   "metadata": {},
   "source": [
    "#### Merge Movies DataFrame With Ratings DataFrame"
   ]
  },
  {
   "cell_type": "code",
   "execution_count": 70,
   "id": "c19ec82d-e81b-48bc-97a5-de115ebee10d",
   "metadata": {},
   "outputs": [],
   "source": [
    "movie_rating_df = pd.merge(movie_df, rating_df, on='movieId')"
   ]
  },
  {
   "cell_type": "markdown",
   "id": "72d0b169-f1f9-4679-9d37-94cfe31158e2",
   "metadata": {},
   "source": [
    "#### Split Title Into Title And Year"
   ]
  },
  {
   "cell_type": "code",
   "execution_count": 71,
   "id": "c60a29b9-c089-457e-bd69-a9314a61e678",
   "metadata": {},
   "outputs": [],
   "source": [
    "movie_rating_df[['title', 'year']] = movie_rating_df.title.str.extract(\"^(?P<title>.*) (?P<year>\\(\\d*\\))$\", expand=True)"
   ]
  },
  {
   "cell_type": "markdown",
   "id": "93a4d3fc-2370-45e4-82ae-7f3cc3aa31fa",
   "metadata": {},
   "source": [
    "#### Remove Brackets From Year"
   ]
  },
  {
   "cell_type": "code",
   "execution_count": 72,
   "id": "ca05d6ba-13a0-440a-bbaa-eb753a493785",
   "metadata": {},
   "outputs": [],
   "source": [
    "movie_rating_df['year'] = movie_rating_df['year'].str.replace('[\\(\\)]', '', regex=True)"
   ]
  },
  {
   "cell_type": "markdown",
   "id": "31541329-51cd-41b9-a3fe-80da495e8ad0",
   "metadata": {},
   "source": [
    "#### Drop Any NaN Row"
   ]
  },
  {
   "cell_type": "code",
   "execution_count": 74,
   "id": "80ec91fe-6913-4aba-b6f2-16635fe7dfd5",
   "metadata": {},
   "outputs": [
    {
     "data": {
      "text/html": [
       "<div>\n",
       "<style scoped>\n",
       "    .dataframe tbody tr th:only-of-type {\n",
       "        vertical-align: middle;\n",
       "    }\n",
       "\n",
       "    .dataframe tbody tr th {\n",
       "        vertical-align: top;\n",
       "    }\n",
       "\n",
       "    .dataframe thead th {\n",
       "        text-align: right;\n",
       "    }\n",
       "</style>\n",
       "<table border=\"1\" class=\"dataframe\">\n",
       "  <thead>\n",
       "    <tr style=\"text-align: right;\">\n",
       "      <th></th>\n",
       "      <th>movieId</th>\n",
       "      <th>title</th>\n",
       "      <th>genres</th>\n",
       "      <th>userId</th>\n",
       "      <th>rating</th>\n",
       "      <th>timestamp</th>\n",
       "      <th>year</th>\n",
       "    </tr>\n",
       "  </thead>\n",
       "  <tbody>\n",
       "    <tr>\n",
       "      <th>208207</th>\n",
       "      <td>27008</td>\n",
       "      <td>NaN</td>\n",
       "      <td>Comedy</td>\n",
       "      <td>599</td>\n",
       "      <td>1.0</td>\n",
       "      <td>1519333508</td>\n",
       "      <td>NaN</td>\n",
       "    </tr>\n",
       "    <tr>\n",
       "      <th>208208</th>\n",
       "      <td>27008</td>\n",
       "      <td>NaN</td>\n",
       "      <td>Crime</td>\n",
       "      <td>599</td>\n",
       "      <td>1.0</td>\n",
       "      <td>1519333508</td>\n",
       "      <td>NaN</td>\n",
       "    </tr>\n",
       "    <tr>\n",
       "      <th>208209</th>\n",
       "      <td>27008</td>\n",
       "      <td>NaN</td>\n",
       "      <td>Horror</td>\n",
       "      <td>599</td>\n",
       "      <td>1.0</td>\n",
       "      <td>1519333508</td>\n",
       "      <td>NaN</td>\n",
       "    </tr>\n",
       "    <tr>\n",
       "      <th>216811</th>\n",
       "      <td>40697</td>\n",
       "      <td>NaN</td>\n",
       "      <td>Sci-Fi</td>\n",
       "      <td>210</td>\n",
       "      <td>4.0</td>\n",
       "      <td>1527266191</td>\n",
       "      <td>NaN</td>\n",
       "    </tr>\n",
       "    <tr>\n",
       "      <th>216812</th>\n",
       "      <td>40697</td>\n",
       "      <td>NaN</td>\n",
       "      <td>Sci-Fi</td>\n",
       "      <td>528</td>\n",
       "      <td>0.5</td>\n",
       "      <td>1391736467</td>\n",
       "      <td>NaN</td>\n",
       "    </tr>\n",
       "    <tr>\n",
       "      <th>...</th>\n",
       "      <td>...</td>\n",
       "      <td>...</td>\n",
       "      <td>...</td>\n",
       "      <td>...</td>\n",
       "      <td>...</td>\n",
       "      <td>...</td>\n",
       "      <td>...</td>\n",
       "    </tr>\n",
       "    <tr>\n",
       "      <th>273518</th>\n",
       "      <td>171495</td>\n",
       "      <td>NaN</td>\n",
       "      <td>(no genres listed)</td>\n",
       "      <td>599</td>\n",
       "      <td>4.0</td>\n",
       "      <td>1519116912</td>\n",
       "      <td>NaN</td>\n",
       "    </tr>\n",
       "    <tr>\n",
       "      <th>273519</th>\n",
       "      <td>171631</td>\n",
       "      <td>NaN</td>\n",
       "      <td>(no genres listed)</td>\n",
       "      <td>111</td>\n",
       "      <td>1.0</td>\n",
       "      <td>1517440909</td>\n",
       "      <td>NaN</td>\n",
       "    </tr>\n",
       "    <tr>\n",
       "      <th>273522</th>\n",
       "      <td>171749</td>\n",
       "      <td>NaN</td>\n",
       "      <td>(no genres listed)</td>\n",
       "      <td>105</td>\n",
       "      <td>5.0</td>\n",
       "      <td>1526207365</td>\n",
       "      <td>NaN</td>\n",
       "    </tr>\n",
       "    <tr>\n",
       "      <th>273569</th>\n",
       "      <td>171891</td>\n",
       "      <td>NaN</td>\n",
       "      <td>(no genres listed)</td>\n",
       "      <td>111</td>\n",
       "      <td>3.5</td>\n",
       "      <td>1517440199</td>\n",
       "      <td>NaN</td>\n",
       "    </tr>\n",
       "    <tr>\n",
       "      <th>273908</th>\n",
       "      <td>176601</td>\n",
       "      <td>NaN</td>\n",
       "      <td>(no genres listed)</td>\n",
       "      <td>62</td>\n",
       "      <td>5.0</td>\n",
       "      <td>1525795252</td>\n",
       "      <td>NaN</td>\n",
       "    </tr>\n",
       "  </tbody>\n",
       "</table>\n",
       "<p>68 rows × 7 columns</p>\n",
       "</div>"
      ],
      "text/plain": [
       "        movieId title              genres  userId  rating   timestamp year\n",
       "208207    27008   NaN              Comedy     599     1.0  1519333508  NaN\n",
       "208208    27008   NaN               Crime     599     1.0  1519333508  NaN\n",
       "208209    27008   NaN              Horror     599     1.0  1519333508  NaN\n",
       "216811    40697   NaN              Sci-Fi     210     4.0  1527266191  NaN\n",
       "216812    40697   NaN              Sci-Fi     528     0.5  1391736467  NaN\n",
       "...         ...   ...                 ...     ...     ...         ...  ...\n",
       "273518   171495   NaN  (no genres listed)     599     4.0  1519116912  NaN\n",
       "273519   171631   NaN  (no genres listed)     111     1.0  1517440909  NaN\n",
       "273522   171749   NaN  (no genres listed)     105     5.0  1526207365  NaN\n",
       "273569   171891   NaN  (no genres listed)     111     3.5  1517440199  NaN\n",
       "273908   176601   NaN  (no genres listed)      62     5.0  1525795252  NaN\n",
       "\n",
       "[68 rows x 7 columns]"
      ]
     },
     "execution_count": 74,
     "metadata": {},
     "output_type": "execute_result"
    }
   ],
   "source": [
    "movie_rating_df[movie_rating_df['year'].isnull()]"
   ]
  },
  {
   "cell_type": "code",
   "execution_count": 75,
   "id": "ab3b2dd7-a16d-490f-8f57-32e9f6cca476",
   "metadata": {},
   "outputs": [],
   "source": [
    "movie_rating_df = movie_rating_df.dropna()"
   ]
  },
  {
   "cell_type": "markdown",
   "id": "beddc971-1a46-43cb-96c9-cc2bc6e058e7",
   "metadata": {},
   "source": [
    "#### Convert Year Data Type As Integer"
   ]
  },
  {
   "cell_type": "code",
   "execution_count": 67,
   "id": "bad511e5-7a73-47ca-bb99-e31f28d94565",
   "metadata": {},
   "outputs": [],
   "source": [
    "movie_rating_df['year'] = movie_rating_df['year'].astype('int32')"
   ]
  },
  {
   "cell_type": "markdown",
   "id": "b2b122c8-426d-421d-ba83-5ca4d5d9be55",
   "metadata": {},
   "source": [
    "#### Feature Data Type"
   ]
  },
  {
   "cell_type": "code",
   "execution_count": 76,
   "id": "a75fd84b-6604-421b-bc69-2b1dbc2d2a4d",
   "metadata": {},
   "outputs": [
    {
     "name": "stdout",
     "output_type": "stream",
     "text": [
      "<class 'pandas.core.frame.DataFrame'>\n",
      "Int64Index: 274412 entries, 0 to 274479\n",
      "Data columns (total 7 columns):\n",
      " #   Column     Non-Null Count   Dtype  \n",
      "---  ------     --------------   -----  \n",
      " 0   movieId    274412 non-null  int64  \n",
      " 1   title      274412 non-null  object \n",
      " 2   genres     274412 non-null  object \n",
      " 3   userId     274412 non-null  int64  \n",
      " 4   rating     274412 non-null  float64\n",
      " 5   timestamp  274412 non-null  int64  \n",
      " 6   year       274412 non-null  object \n",
      "dtypes: float64(1), int64(3), object(3)\n",
      "memory usage: 16.7+ MB\n"
     ]
    }
   ],
   "source": [
    "movie_rating_df.info()"
   ]
  },
  {
   "cell_type": "markdown",
   "id": "94f94e67-e87e-4f9a-87bd-237dfa79ddbd",
   "metadata": {},
   "source": [
    "#### Central Tendency for Movie Rating"
   ]
  },
  {
   "cell_type": "code",
   "execution_count": 77,
   "id": "e00bb330-7338-4359-b4af-5c7534e30a40",
   "metadata": {},
   "outputs": [
    {
     "data": {
      "text/plain": [
       "count    274412.00000\n",
       "mean          3.51785\n",
       "std           1.03463\n",
       "min           0.50000\n",
       "25%           3.00000\n",
       "50%           3.50000\n",
       "75%           4.00000\n",
       "max           5.00000\n",
       "Name: rating, dtype: object"
      ]
     },
     "execution_count": 77,
     "metadata": {},
     "output_type": "execute_result"
    }
   ],
   "source": [
    "movie_rating_df['rating'].describe().apply(\"{0:.5f}\".format)"
   ]
  },
  {
   "cell_type": "markdown",
   "id": "589c7e35-5080-4f17-8460-04d5cfb0b8f3",
   "metadata": {},
   "source": [
    "#### Total Movies"
   ]
  },
  {
   "cell_type": "code",
   "execution_count": 78,
   "id": "d124e1f7-b8c9-40ec-adfd-af2fc09f080f",
   "metadata": {},
   "outputs": [
    {
     "data": {
      "text/plain": [
       "9422"
      ]
     },
     "execution_count": 78,
     "metadata": {},
     "output_type": "execute_result"
    }
   ],
   "source": [
    "len(movie_rating_df['title'].unique())"
   ]
  },
  {
   "cell_type": "markdown",
   "id": "8156a04e-d04c-4562-97c2-2ec8ee4e3d66",
   "metadata": {},
   "source": [
    "#### Total User Who Gave Ratings"
   ]
  },
  {
   "cell_type": "code",
   "execution_count": 79,
   "id": "729fdf35-54e4-4c5a-b024-f475106ac312",
   "metadata": {},
   "outputs": [
    {
     "data": {
      "text/plain": [
       "610"
      ]
     },
     "execution_count": 79,
     "metadata": {},
     "output_type": "execute_result"
    }
   ],
   "source": [
    "len(movie_rating_df['userId'].unique())"
   ]
  },
  {
   "cell_type": "code",
   "execution_count": null,
   "id": "892ed2b4-2447-4452-893d-532c015855ef",
   "metadata": {},
   "outputs": [],
   "source": []
  }
 ],
 "metadata": {
  "kernelspec": {
   "display_name": "Python 3 (ipykernel)",
   "language": "python",
   "name": "python3"
  },
  "language_info": {
   "codemirror_mode": {
    "name": "ipython",
    "version": 3
   },
   "file_extension": ".py",
   "mimetype": "text/x-python",
   "name": "python",
   "nbconvert_exporter": "python",
   "pygments_lexer": "ipython3",
   "version": "3.7.9"
  }
 },
 "nbformat": 4,
 "nbformat_minor": 5
}
