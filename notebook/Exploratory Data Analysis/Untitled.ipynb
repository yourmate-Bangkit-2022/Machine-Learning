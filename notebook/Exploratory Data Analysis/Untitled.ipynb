{
 "cells": [
  {
   "cell_type": "markdown",
   "id": "6e68f98e-be2b-4568-9ae4-783cbe24c1f3",
   "metadata": {},
   "source": [
    "# Exploratory Data Analysis (EDA) - Book Crossing"
   ]
  },
  {
   "cell_type": "markdown",
   "id": "8b95a29d-98cd-49e0-9264-e6b915aea117",
   "metadata": {},
   "source": [
    "## Import Library"
   ]
  },
  {
   "cell_type": "code",
   "execution_count": 1,
   "id": "79e34a41-67dc-480e-96ed-e5b55d032e94",
   "metadata": {},
   "outputs": [],
   "source": [
    "import pandas as pd\n",
    "import numpy as np\n",
    "import re\n",
    "import matplotlib.pyplot as plt\n",
    "%matplotlib inline"
   ]
  },
  {
   "cell_type": "code",
   "execution_count": null,
   "id": "94dbb710-da5f-49a3-9fbf-f6f86929e47d",
   "metadata": {},
   "outputs": [],
   "source": []
  }
 ],
 "metadata": {
  "kernelspec": {
   "display_name": "Python 3 (ipykernel)",
   "language": "python",
   "name": "python3"
  },
  "language_info": {
   "codemirror_mode": {
    "name": "ipython",
    "version": 3
   },
   "file_extension": ".py",
   "mimetype": "text/x-python",
   "name": "python",
   "nbconvert_exporter": "python",
   "pygments_lexer": "ipython3",
   "version": "3.7.9"
  }
 },
 "nbformat": 4,
 "nbformat_minor": 5
}
