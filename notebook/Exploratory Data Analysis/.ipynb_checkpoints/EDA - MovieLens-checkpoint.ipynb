{
 "cells": [
  {
   "cell_type": "markdown",
   "id": "12dffd63-242c-4033-9c02-ebd3c7a3eafa",
   "metadata": {},
   "source": [
    "# Exploratory Data Analysis (EDA)"
   ]
  },
  {
   "cell_type": "markdown",
   "id": "7a5fc4f1-a922-4df5-b1e9-bc21f7abe798",
   "metadata": {},
   "source": [
    "## Import Library"
   ]
  },
  {
   "cell_type": "code",
   "execution_count": 82,
   "id": "92002e70-ed73-462a-8f71-bea6ddffe163",
   "metadata": {},
   "outputs": [],
   "source": [
    "import pandas as pd\n",
    "import numpy as np\n",
    "import re\n",
    "import matplotlib.pyplot as plt\n",
    "%matplotlib inline"
   ]
  },
  {
   "cell_type": "markdown",
   "id": "ba042db2-a2e9-4968-975b-c54050080727",
   "metadata": {},
   "source": [
    "### MovieLens Dataset"
   ]
  },
  {
   "cell_type": "markdown",
   "id": "e883fcf6-fdd9-43a1-a976-df13437f1d0e",
   "metadata": {},
   "source": [
    "#### Movies"
   ]
  },
  {
   "cell_type": "code",
   "execution_count": 2,
   "id": "79a406af-8eb6-4bf5-b506-fab9d20ff968",
   "metadata": {},
   "outputs": [],
   "source": [
    "movie_df = pd.read_csv(\"../../data-raw/movielens-rating/movies-9k.csv\")"
   ]
  },
  {
   "cell_type": "code",
   "execution_count": 3,
   "id": "402e085c-8cb9-47b8-b781-6a17fc8eb929",
   "metadata": {},
   "outputs": [
    {
     "data": {
      "text/html": [
       "<div>\n",
       "<style scoped>\n",
       "    .dataframe tbody tr th:only-of-type {\n",
       "        vertical-align: middle;\n",
       "    }\n",
       "\n",
       "    .dataframe tbody tr th {\n",
       "        vertical-align: top;\n",
       "    }\n",
       "\n",
       "    .dataframe thead th {\n",
       "        text-align: right;\n",
       "    }\n",
       "</style>\n",
       "<table border=\"1\" class=\"dataframe\">\n",
       "  <thead>\n",
       "    <tr style=\"text-align: right;\">\n",
       "      <th></th>\n",
       "      <th>movieId</th>\n",
       "      <th>title</th>\n",
       "      <th>genres</th>\n",
       "    </tr>\n",
       "  </thead>\n",
       "  <tbody>\n",
       "    <tr>\n",
       "      <th>0</th>\n",
       "      <td>1</td>\n",
       "      <td>Toy Story (1995)</td>\n",
       "      <td>Adventure|Animation|Children|Comedy|Fantasy</td>\n",
       "    </tr>\n",
       "    <tr>\n",
       "      <th>1</th>\n",
       "      <td>2</td>\n",
       "      <td>Jumanji (1995)</td>\n",
       "      <td>Adventure|Children|Fantasy</td>\n",
       "    </tr>\n",
       "    <tr>\n",
       "      <th>2</th>\n",
       "      <td>3</td>\n",
       "      <td>Grumpier Old Men (1995)</td>\n",
       "      <td>Comedy|Romance</td>\n",
       "    </tr>\n",
       "    <tr>\n",
       "      <th>3</th>\n",
       "      <td>4</td>\n",
       "      <td>Waiting to Exhale (1995)</td>\n",
       "      <td>Comedy|Drama|Romance</td>\n",
       "    </tr>\n",
       "    <tr>\n",
       "      <th>4</th>\n",
       "      <td>5</td>\n",
       "      <td>Father of the Bride Part II (1995)</td>\n",
       "      <td>Comedy</td>\n",
       "    </tr>\n",
       "    <tr>\n",
       "      <th>...</th>\n",
       "      <td>...</td>\n",
       "      <td>...</td>\n",
       "      <td>...</td>\n",
       "    </tr>\n",
       "    <tr>\n",
       "      <th>9737</th>\n",
       "      <td>193581</td>\n",
       "      <td>Black Butler: Book of the Atlantic (2017)</td>\n",
       "      <td>Action|Animation|Comedy|Fantasy</td>\n",
       "    </tr>\n",
       "    <tr>\n",
       "      <th>9738</th>\n",
       "      <td>193583</td>\n",
       "      <td>No Game No Life: Zero (2017)</td>\n",
       "      <td>Animation|Comedy|Fantasy</td>\n",
       "    </tr>\n",
       "    <tr>\n",
       "      <th>9739</th>\n",
       "      <td>193585</td>\n",
       "      <td>Flint (2017)</td>\n",
       "      <td>Drama</td>\n",
       "    </tr>\n",
       "    <tr>\n",
       "      <th>9740</th>\n",
       "      <td>193587</td>\n",
       "      <td>Bungo Stray Dogs: Dead Apple (2018)</td>\n",
       "      <td>Action|Animation</td>\n",
       "    </tr>\n",
       "    <tr>\n",
       "      <th>9741</th>\n",
       "      <td>193609</td>\n",
       "      <td>Andrew Dice Clay: Dice Rules (1991)</td>\n",
       "      <td>Comedy</td>\n",
       "    </tr>\n",
       "  </tbody>\n",
       "</table>\n",
       "<p>9742 rows × 3 columns</p>\n",
       "</div>"
      ],
      "text/plain": [
       "      movieId                                      title  \\\n",
       "0           1                           Toy Story (1995)   \n",
       "1           2                             Jumanji (1995)   \n",
       "2           3                    Grumpier Old Men (1995)   \n",
       "3           4                   Waiting to Exhale (1995)   \n",
       "4           5         Father of the Bride Part II (1995)   \n",
       "...       ...                                        ...   \n",
       "9737   193581  Black Butler: Book of the Atlantic (2017)   \n",
       "9738   193583               No Game No Life: Zero (2017)   \n",
       "9739   193585                               Flint (2017)   \n",
       "9740   193587        Bungo Stray Dogs: Dead Apple (2018)   \n",
       "9741   193609        Andrew Dice Clay: Dice Rules (1991)   \n",
       "\n",
       "                                           genres  \n",
       "0     Adventure|Animation|Children|Comedy|Fantasy  \n",
       "1                      Adventure|Children|Fantasy  \n",
       "2                                  Comedy|Romance  \n",
       "3                            Comedy|Drama|Romance  \n",
       "4                                          Comedy  \n",
       "...                                           ...  \n",
       "9737              Action|Animation|Comedy|Fantasy  \n",
       "9738                     Animation|Comedy|Fantasy  \n",
       "9739                                        Drama  \n",
       "9740                             Action|Animation  \n",
       "9741                                       Comedy  \n",
       "\n",
       "[9742 rows x 3 columns]"
      ]
     },
     "execution_count": 3,
     "metadata": {},
     "output_type": "execute_result"
    }
   ],
   "source": [
    "movie_df"
   ]
  },
  {
   "cell_type": "markdown",
   "id": "1da4213a-b7ae-4528-a305-dbccea1fa7f0",
   "metadata": {},
   "source": [
    "#### Ratings"
   ]
  },
  {
   "cell_type": "code",
   "execution_count": 4,
   "id": "075d4ffa-8bd1-4f47-810e-daecaef8cc38",
   "metadata": {},
   "outputs": [],
   "source": [
    "rating_df = pd.read_csv(\"../../data-raw/movielens-rating/ratings-100k.csv\")"
   ]
  },
  {
   "cell_type": "code",
   "execution_count": 5,
   "id": "3a47935a-44e7-403e-9184-a65886295cf6",
   "metadata": {},
   "outputs": [
    {
     "data": {
      "text/html": [
       "<div>\n",
       "<style scoped>\n",
       "    .dataframe tbody tr th:only-of-type {\n",
       "        vertical-align: middle;\n",
       "    }\n",
       "\n",
       "    .dataframe tbody tr th {\n",
       "        vertical-align: top;\n",
       "    }\n",
       "\n",
       "    .dataframe thead th {\n",
       "        text-align: right;\n",
       "    }\n",
       "</style>\n",
       "<table border=\"1\" class=\"dataframe\">\n",
       "  <thead>\n",
       "    <tr style=\"text-align: right;\">\n",
       "      <th></th>\n",
       "      <th>userId</th>\n",
       "      <th>movieId</th>\n",
       "      <th>rating</th>\n",
       "      <th>timestamp</th>\n",
       "    </tr>\n",
       "  </thead>\n",
       "  <tbody>\n",
       "    <tr>\n",
       "      <th>0</th>\n",
       "      <td>1</td>\n",
       "      <td>1</td>\n",
       "      <td>4.0</td>\n",
       "      <td>964982703</td>\n",
       "    </tr>\n",
       "    <tr>\n",
       "      <th>1</th>\n",
       "      <td>1</td>\n",
       "      <td>3</td>\n",
       "      <td>4.0</td>\n",
       "      <td>964981247</td>\n",
       "    </tr>\n",
       "    <tr>\n",
       "      <th>2</th>\n",
       "      <td>1</td>\n",
       "      <td>6</td>\n",
       "      <td>4.0</td>\n",
       "      <td>964982224</td>\n",
       "    </tr>\n",
       "    <tr>\n",
       "      <th>3</th>\n",
       "      <td>1</td>\n",
       "      <td>47</td>\n",
       "      <td>5.0</td>\n",
       "      <td>964983815</td>\n",
       "    </tr>\n",
       "    <tr>\n",
       "      <th>4</th>\n",
       "      <td>1</td>\n",
       "      <td>50</td>\n",
       "      <td>5.0</td>\n",
       "      <td>964982931</td>\n",
       "    </tr>\n",
       "    <tr>\n",
       "      <th>...</th>\n",
       "      <td>...</td>\n",
       "      <td>...</td>\n",
       "      <td>...</td>\n",
       "      <td>...</td>\n",
       "    </tr>\n",
       "    <tr>\n",
       "      <th>100831</th>\n",
       "      <td>610</td>\n",
       "      <td>166534</td>\n",
       "      <td>4.0</td>\n",
       "      <td>1493848402</td>\n",
       "    </tr>\n",
       "    <tr>\n",
       "      <th>100832</th>\n",
       "      <td>610</td>\n",
       "      <td>168248</td>\n",
       "      <td>5.0</td>\n",
       "      <td>1493850091</td>\n",
       "    </tr>\n",
       "    <tr>\n",
       "      <th>100833</th>\n",
       "      <td>610</td>\n",
       "      <td>168250</td>\n",
       "      <td>5.0</td>\n",
       "      <td>1494273047</td>\n",
       "    </tr>\n",
       "    <tr>\n",
       "      <th>100834</th>\n",
       "      <td>610</td>\n",
       "      <td>168252</td>\n",
       "      <td>5.0</td>\n",
       "      <td>1493846352</td>\n",
       "    </tr>\n",
       "    <tr>\n",
       "      <th>100835</th>\n",
       "      <td>610</td>\n",
       "      <td>170875</td>\n",
       "      <td>3.0</td>\n",
       "      <td>1493846415</td>\n",
       "    </tr>\n",
       "  </tbody>\n",
       "</table>\n",
       "<p>100836 rows × 4 columns</p>\n",
       "</div>"
      ],
      "text/plain": [
       "        userId  movieId  rating   timestamp\n",
       "0            1        1     4.0   964982703\n",
       "1            1        3     4.0   964981247\n",
       "2            1        6     4.0   964982224\n",
       "3            1       47     5.0   964983815\n",
       "4            1       50     5.0   964982931\n",
       "...        ...      ...     ...         ...\n",
       "100831     610   166534     4.0  1493848402\n",
       "100832     610   168248     5.0  1493850091\n",
       "100833     610   168250     5.0  1494273047\n",
       "100834     610   168252     5.0  1493846352\n",
       "100835     610   170875     3.0  1493846415\n",
       "\n",
       "[100836 rows x 4 columns]"
      ]
     },
     "execution_count": 5,
     "metadata": {},
     "output_type": "execute_result"
    }
   ],
   "source": [
    "rating_df"
   ]
  },
  {
   "cell_type": "markdown",
   "id": "9643a058-003a-4cf5-a812-2a435608816f",
   "metadata": {},
   "source": [
    "#### Split Genres Into Multiple Rows"
   ]
  },
  {
   "cell_type": "code",
   "execution_count": 6,
   "id": "88e31313-9aee-43a9-ab3b-ea5e1bc2a199",
   "metadata": {},
   "outputs": [],
   "source": [
    "movie_df = movie_df.assign(genres=movie_df['genres'].str.split('|'))"
   ]
  },
  {
   "cell_type": "code",
   "execution_count": 7,
   "id": "92899dea-e9c7-437e-ad3d-21022135da3d",
   "metadata": {},
   "outputs": [],
   "source": [
    "movie_df = movie_df.explode('genres', ignore_index=True)"
   ]
  },
  {
   "cell_type": "code",
   "execution_count": 8,
   "id": "7874fb6d-88ee-4565-975e-4876bee96914",
   "metadata": {},
   "outputs": [
    {
     "data": {
      "text/html": [
       "<div>\n",
       "<style scoped>\n",
       "    .dataframe tbody tr th:only-of-type {\n",
       "        vertical-align: middle;\n",
       "    }\n",
       "\n",
       "    .dataframe tbody tr th {\n",
       "        vertical-align: top;\n",
       "    }\n",
       "\n",
       "    .dataframe thead th {\n",
       "        text-align: right;\n",
       "    }\n",
       "</style>\n",
       "<table border=\"1\" class=\"dataframe\">\n",
       "  <thead>\n",
       "    <tr style=\"text-align: right;\">\n",
       "      <th></th>\n",
       "      <th>movieId</th>\n",
       "      <th>title</th>\n",
       "      <th>genres</th>\n",
       "    </tr>\n",
       "  </thead>\n",
       "  <tbody>\n",
       "    <tr>\n",
       "      <th>0</th>\n",
       "      <td>1</td>\n",
       "      <td>Toy Story (1995)</td>\n",
       "      <td>Adventure</td>\n",
       "    </tr>\n",
       "    <tr>\n",
       "      <th>1</th>\n",
       "      <td>1</td>\n",
       "      <td>Toy Story (1995)</td>\n",
       "      <td>Animation</td>\n",
       "    </tr>\n",
       "    <tr>\n",
       "      <th>2</th>\n",
       "      <td>1</td>\n",
       "      <td>Toy Story (1995)</td>\n",
       "      <td>Children</td>\n",
       "    </tr>\n",
       "    <tr>\n",
       "      <th>3</th>\n",
       "      <td>1</td>\n",
       "      <td>Toy Story (1995)</td>\n",
       "      <td>Comedy</td>\n",
       "    </tr>\n",
       "    <tr>\n",
       "      <th>4</th>\n",
       "      <td>1</td>\n",
       "      <td>Toy Story (1995)</td>\n",
       "      <td>Fantasy</td>\n",
       "    </tr>\n",
       "    <tr>\n",
       "      <th>...</th>\n",
       "      <td>...</td>\n",
       "      <td>...</td>\n",
       "      <td>...</td>\n",
       "    </tr>\n",
       "    <tr>\n",
       "      <th>22079</th>\n",
       "      <td>193583</td>\n",
       "      <td>No Game No Life: Zero (2017)</td>\n",
       "      <td>Fantasy</td>\n",
       "    </tr>\n",
       "    <tr>\n",
       "      <th>22080</th>\n",
       "      <td>193585</td>\n",
       "      <td>Flint (2017)</td>\n",
       "      <td>Drama</td>\n",
       "    </tr>\n",
       "    <tr>\n",
       "      <th>22081</th>\n",
       "      <td>193587</td>\n",
       "      <td>Bungo Stray Dogs: Dead Apple (2018)</td>\n",
       "      <td>Action</td>\n",
       "    </tr>\n",
       "    <tr>\n",
       "      <th>22082</th>\n",
       "      <td>193587</td>\n",
       "      <td>Bungo Stray Dogs: Dead Apple (2018)</td>\n",
       "      <td>Animation</td>\n",
       "    </tr>\n",
       "    <tr>\n",
       "      <th>22083</th>\n",
       "      <td>193609</td>\n",
       "      <td>Andrew Dice Clay: Dice Rules (1991)</td>\n",
       "      <td>Comedy</td>\n",
       "    </tr>\n",
       "  </tbody>\n",
       "</table>\n",
       "<p>22084 rows × 3 columns</p>\n",
       "</div>"
      ],
      "text/plain": [
       "       movieId                                title     genres\n",
       "0            1                     Toy Story (1995)  Adventure\n",
       "1            1                     Toy Story (1995)  Animation\n",
       "2            1                     Toy Story (1995)   Children\n",
       "3            1                     Toy Story (1995)     Comedy\n",
       "4            1                     Toy Story (1995)    Fantasy\n",
       "...        ...                                  ...        ...\n",
       "22079   193583         No Game No Life: Zero (2017)    Fantasy\n",
       "22080   193585                         Flint (2017)      Drama\n",
       "22081   193587  Bungo Stray Dogs: Dead Apple (2018)     Action\n",
       "22082   193587  Bungo Stray Dogs: Dead Apple (2018)  Animation\n",
       "22083   193609  Andrew Dice Clay: Dice Rules (1991)     Comedy\n",
       "\n",
       "[22084 rows x 3 columns]"
      ]
     },
     "execution_count": 8,
     "metadata": {},
     "output_type": "execute_result"
    }
   ],
   "source": [
    "movie_df"
   ]
  },
  {
   "cell_type": "markdown",
   "id": "3c62657b-696d-4467-b773-6430b9c730a2",
   "metadata": {},
   "source": [
    "#### Merge Movies DataFrame With Ratings DataFrame"
   ]
  },
  {
   "cell_type": "code",
   "execution_count": 9,
   "id": "c19ec82d-e81b-48bc-97a5-de115ebee10d",
   "metadata": {},
   "outputs": [],
   "source": [
    "movie_rating_df = pd.merge(movie_df, rating_df, on='movieId')"
   ]
  },
  {
   "cell_type": "code",
   "execution_count": 10,
   "id": "9f66b07a-bf65-45e8-8825-c32ce4ac5f09",
   "metadata": {},
   "outputs": [
    {
     "data": {
      "text/html": [
       "<div>\n",
       "<style scoped>\n",
       "    .dataframe tbody tr th:only-of-type {\n",
       "        vertical-align: middle;\n",
       "    }\n",
       "\n",
       "    .dataframe tbody tr th {\n",
       "        vertical-align: top;\n",
       "    }\n",
       "\n",
       "    .dataframe thead th {\n",
       "        text-align: right;\n",
       "    }\n",
       "</style>\n",
       "<table border=\"1\" class=\"dataframe\">\n",
       "  <thead>\n",
       "    <tr style=\"text-align: right;\">\n",
       "      <th></th>\n",
       "      <th>movieId</th>\n",
       "      <th>title</th>\n",
       "      <th>genres</th>\n",
       "      <th>userId</th>\n",
       "      <th>rating</th>\n",
       "      <th>timestamp</th>\n",
       "    </tr>\n",
       "  </thead>\n",
       "  <tbody>\n",
       "    <tr>\n",
       "      <th>0</th>\n",
       "      <td>1</td>\n",
       "      <td>Toy Story (1995)</td>\n",
       "      <td>Adventure</td>\n",
       "      <td>1</td>\n",
       "      <td>4.0</td>\n",
       "      <td>964982703</td>\n",
       "    </tr>\n",
       "    <tr>\n",
       "      <th>1</th>\n",
       "      <td>1</td>\n",
       "      <td>Toy Story (1995)</td>\n",
       "      <td>Adventure</td>\n",
       "      <td>5</td>\n",
       "      <td>4.0</td>\n",
       "      <td>847434962</td>\n",
       "    </tr>\n",
       "    <tr>\n",
       "      <th>2</th>\n",
       "      <td>1</td>\n",
       "      <td>Toy Story (1995)</td>\n",
       "      <td>Adventure</td>\n",
       "      <td>7</td>\n",
       "      <td>4.5</td>\n",
       "      <td>1106635946</td>\n",
       "    </tr>\n",
       "    <tr>\n",
       "      <th>3</th>\n",
       "      <td>1</td>\n",
       "      <td>Toy Story (1995)</td>\n",
       "      <td>Adventure</td>\n",
       "      <td>15</td>\n",
       "      <td>2.5</td>\n",
       "      <td>1510577970</td>\n",
       "    </tr>\n",
       "    <tr>\n",
       "      <th>4</th>\n",
       "      <td>1</td>\n",
       "      <td>Toy Story (1995)</td>\n",
       "      <td>Adventure</td>\n",
       "      <td>17</td>\n",
       "      <td>4.5</td>\n",
       "      <td>1305696483</td>\n",
       "    </tr>\n",
       "    <tr>\n",
       "      <th>...</th>\n",
       "      <td>...</td>\n",
       "      <td>...</td>\n",
       "      <td>...</td>\n",
       "      <td>...</td>\n",
       "      <td>...</td>\n",
       "      <td>...</td>\n",
       "    </tr>\n",
       "    <tr>\n",
       "      <th>274475</th>\n",
       "      <td>193583</td>\n",
       "      <td>No Game No Life: Zero (2017)</td>\n",
       "      <td>Fantasy</td>\n",
       "      <td>184</td>\n",
       "      <td>3.5</td>\n",
       "      <td>1537109545</td>\n",
       "    </tr>\n",
       "    <tr>\n",
       "      <th>274476</th>\n",
       "      <td>193585</td>\n",
       "      <td>Flint (2017)</td>\n",
       "      <td>Drama</td>\n",
       "      <td>184</td>\n",
       "      <td>3.5</td>\n",
       "      <td>1537109805</td>\n",
       "    </tr>\n",
       "    <tr>\n",
       "      <th>274477</th>\n",
       "      <td>193587</td>\n",
       "      <td>Bungo Stray Dogs: Dead Apple (2018)</td>\n",
       "      <td>Action</td>\n",
       "      <td>184</td>\n",
       "      <td>3.5</td>\n",
       "      <td>1537110021</td>\n",
       "    </tr>\n",
       "    <tr>\n",
       "      <th>274478</th>\n",
       "      <td>193587</td>\n",
       "      <td>Bungo Stray Dogs: Dead Apple (2018)</td>\n",
       "      <td>Animation</td>\n",
       "      <td>184</td>\n",
       "      <td>3.5</td>\n",
       "      <td>1537110021</td>\n",
       "    </tr>\n",
       "    <tr>\n",
       "      <th>274479</th>\n",
       "      <td>193609</td>\n",
       "      <td>Andrew Dice Clay: Dice Rules (1991)</td>\n",
       "      <td>Comedy</td>\n",
       "      <td>331</td>\n",
       "      <td>4.0</td>\n",
       "      <td>1537157606</td>\n",
       "    </tr>\n",
       "  </tbody>\n",
       "</table>\n",
       "<p>274480 rows × 6 columns</p>\n",
       "</div>"
      ],
      "text/plain": [
       "        movieId                                title     genres  userId  \\\n",
       "0             1                     Toy Story (1995)  Adventure       1   \n",
       "1             1                     Toy Story (1995)  Adventure       5   \n",
       "2             1                     Toy Story (1995)  Adventure       7   \n",
       "3             1                     Toy Story (1995)  Adventure      15   \n",
       "4             1                     Toy Story (1995)  Adventure      17   \n",
       "...         ...                                  ...        ...     ...   \n",
       "274475   193583         No Game No Life: Zero (2017)    Fantasy     184   \n",
       "274476   193585                         Flint (2017)      Drama     184   \n",
       "274477   193587  Bungo Stray Dogs: Dead Apple (2018)     Action     184   \n",
       "274478   193587  Bungo Stray Dogs: Dead Apple (2018)  Animation     184   \n",
       "274479   193609  Andrew Dice Clay: Dice Rules (1991)     Comedy     331   \n",
       "\n",
       "        rating   timestamp  \n",
       "0          4.0   964982703  \n",
       "1          4.0   847434962  \n",
       "2          4.5  1106635946  \n",
       "3          2.5  1510577970  \n",
       "4          4.5  1305696483  \n",
       "...        ...         ...  \n",
       "274475     3.5  1537109545  \n",
       "274476     3.5  1537109805  \n",
       "274477     3.5  1537110021  \n",
       "274478     3.5  1537110021  \n",
       "274479     4.0  1537157606  \n",
       "\n",
       "[274480 rows x 6 columns]"
      ]
     },
     "execution_count": 10,
     "metadata": {},
     "output_type": "execute_result"
    }
   ],
   "source": [
    "movie_rating_df"
   ]
  },
  {
   "cell_type": "code",
   "execution_count": 11,
   "id": "be97fe14-bb85-49cd-9729-ee9e2cbc5482",
   "metadata": {},
   "outputs": [
    {
     "data": {
      "text/html": [
       "<div>\n",
       "<style scoped>\n",
       "    .dataframe tbody tr th:only-of-type {\n",
       "        vertical-align: middle;\n",
       "    }\n",
       "\n",
       "    .dataframe tbody tr th {\n",
       "        vertical-align: top;\n",
       "    }\n",
       "\n",
       "    .dataframe thead th {\n",
       "        text-align: right;\n",
       "    }\n",
       "</style>\n",
       "<table border=\"1\" class=\"dataframe\">\n",
       "  <thead>\n",
       "    <tr style=\"text-align: right;\">\n",
       "      <th></th>\n",
       "      <th>movieId</th>\n",
       "      <th>title</th>\n",
       "      <th>genres</th>\n",
       "      <th>userId</th>\n",
       "      <th>rating</th>\n",
       "      <th>timestamp</th>\n",
       "    </tr>\n",
       "  </thead>\n",
       "  <tbody>\n",
       "    <tr>\n",
       "      <th>216811</th>\n",
       "      <td>40697</td>\n",
       "      <td>Babylon 5</td>\n",
       "      <td>Sci-Fi</td>\n",
       "      <td>210</td>\n",
       "      <td>4.0</td>\n",
       "      <td>1527266191</td>\n",
       "    </tr>\n",
       "    <tr>\n",
       "      <th>216812</th>\n",
       "      <td>40697</td>\n",
       "      <td>Babylon 5</td>\n",
       "      <td>Sci-Fi</td>\n",
       "      <td>528</td>\n",
       "      <td>0.5</td>\n",
       "      <td>1391736467</td>\n",
       "    </tr>\n",
       "    <tr>\n",
       "      <th>271160</th>\n",
       "      <td>140956</td>\n",
       "      <td>Ready Player One</td>\n",
       "      <td>Action</td>\n",
       "      <td>209</td>\n",
       "      <td>3.5</td>\n",
       "      <td>1524522239</td>\n",
       "    </tr>\n",
       "    <tr>\n",
       "      <th>271161</th>\n",
       "      <td>140956</td>\n",
       "      <td>Ready Player One</td>\n",
       "      <td>Action</td>\n",
       "      <td>305</td>\n",
       "      <td>4.5</td>\n",
       "      <td>1533043577</td>\n",
       "    </tr>\n",
       "    <tr>\n",
       "      <th>271162</th>\n",
       "      <td>140956</td>\n",
       "      <td>Ready Player One</td>\n",
       "      <td>Action</td>\n",
       "      <td>380</td>\n",
       "      <td>3.0</td>\n",
       "      <td>1534176158</td>\n",
       "    </tr>\n",
       "    <tr>\n",
       "      <th>271163</th>\n",
       "      <td>140956</td>\n",
       "      <td>Ready Player One</td>\n",
       "      <td>Action</td>\n",
       "      <td>514</td>\n",
       "      <td>3.0</td>\n",
       "      <td>1533946119</td>\n",
       "    </tr>\n",
       "    <tr>\n",
       "      <th>271164</th>\n",
       "      <td>140956</td>\n",
       "      <td>Ready Player One</td>\n",
       "      <td>Sci-Fi</td>\n",
       "      <td>209</td>\n",
       "      <td>3.5</td>\n",
       "      <td>1524522239</td>\n",
       "    </tr>\n",
       "    <tr>\n",
       "      <th>271165</th>\n",
       "      <td>140956</td>\n",
       "      <td>Ready Player One</td>\n",
       "      <td>Sci-Fi</td>\n",
       "      <td>305</td>\n",
       "      <td>4.5</td>\n",
       "      <td>1533043577</td>\n",
       "    </tr>\n",
       "    <tr>\n",
       "      <th>271166</th>\n",
       "      <td>140956</td>\n",
       "      <td>Ready Player One</td>\n",
       "      <td>Sci-Fi</td>\n",
       "      <td>380</td>\n",
       "      <td>3.0</td>\n",
       "      <td>1534176158</td>\n",
       "    </tr>\n",
       "    <tr>\n",
       "      <th>271167</th>\n",
       "      <td>140956</td>\n",
       "      <td>Ready Player One</td>\n",
       "      <td>Sci-Fi</td>\n",
       "      <td>514</td>\n",
       "      <td>3.0</td>\n",
       "      <td>1533946119</td>\n",
       "    </tr>\n",
       "    <tr>\n",
       "      <th>271168</th>\n",
       "      <td>140956</td>\n",
       "      <td>Ready Player One</td>\n",
       "      <td>Thriller</td>\n",
       "      <td>209</td>\n",
       "      <td>3.5</td>\n",
       "      <td>1524522239</td>\n",
       "    </tr>\n",
       "    <tr>\n",
       "      <th>271169</th>\n",
       "      <td>140956</td>\n",
       "      <td>Ready Player One</td>\n",
       "      <td>Thriller</td>\n",
       "      <td>305</td>\n",
       "      <td>4.5</td>\n",
       "      <td>1533043577</td>\n",
       "    </tr>\n",
       "    <tr>\n",
       "      <th>271170</th>\n",
       "      <td>140956</td>\n",
       "      <td>Ready Player One</td>\n",
       "      <td>Thriller</td>\n",
       "      <td>380</td>\n",
       "      <td>3.0</td>\n",
       "      <td>1534176158</td>\n",
       "    </tr>\n",
       "    <tr>\n",
       "      <th>271171</th>\n",
       "      <td>140956</td>\n",
       "      <td>Ready Player One</td>\n",
       "      <td>Thriller</td>\n",
       "      <td>514</td>\n",
       "      <td>3.0</td>\n",
       "      <td>1533946119</td>\n",
       "    </tr>\n",
       "    <tr>\n",
       "      <th>271417</th>\n",
       "      <td>143410</td>\n",
       "      <td>Hyena Road</td>\n",
       "      <td>(no genres listed)</td>\n",
       "      <td>448</td>\n",
       "      <td>2.0</td>\n",
       "      <td>1474224802</td>\n",
       "    </tr>\n",
       "    <tr>\n",
       "      <th>271539</th>\n",
       "      <td>147250</td>\n",
       "      <td>The Adventures of Sherlock Holmes and Doctor W...</td>\n",
       "      <td>(no genres listed)</td>\n",
       "      <td>105</td>\n",
       "      <td>5.0</td>\n",
       "      <td>1526207354</td>\n",
       "    </tr>\n",
       "    <tr>\n",
       "      <th>271701</th>\n",
       "      <td>149334</td>\n",
       "      <td>Nocturnal Animals</td>\n",
       "      <td>Drama</td>\n",
       "      <td>306</td>\n",
       "      <td>3.0</td>\n",
       "      <td>1518380372</td>\n",
       "    </tr>\n",
       "    <tr>\n",
       "      <th>271702</th>\n",
       "      <td>149334</td>\n",
       "      <td>Nocturnal Animals</td>\n",
       "      <td>Thriller</td>\n",
       "      <td>306</td>\n",
       "      <td>3.0</td>\n",
       "      <td>1518380372</td>\n",
       "    </tr>\n",
       "    <tr>\n",
       "      <th>272157</th>\n",
       "      <td>156605</td>\n",
       "      <td>Paterson</td>\n",
       "      <td>(no genres listed)</td>\n",
       "      <td>567</td>\n",
       "      <td>4.5</td>\n",
       "      <td>1525283448</td>\n",
       "    </tr>\n",
       "    <tr>\n",
       "      <th>272662</th>\n",
       "      <td>162414</td>\n",
       "      <td>Moonlight</td>\n",
       "      <td>Drama</td>\n",
       "      <td>462</td>\n",
       "      <td>5.0</td>\n",
       "      <td>1478489531</td>\n",
       "    </tr>\n",
       "    <tr>\n",
       "      <th>273181</th>\n",
       "      <td>167570</td>\n",
       "      <td>The OA</td>\n",
       "      <td>(no genres listed)</td>\n",
       "      <td>414</td>\n",
       "      <td>4.0</td>\n",
       "      <td>1511535836</td>\n",
       "    </tr>\n",
       "    <tr>\n",
       "      <th>273517</th>\n",
       "      <td>171495</td>\n",
       "      <td>Cosmos</td>\n",
       "      <td>(no genres listed)</td>\n",
       "      <td>318</td>\n",
       "      <td>5.0</td>\n",
       "      <td>1516826406</td>\n",
       "    </tr>\n",
       "    <tr>\n",
       "      <th>273518</th>\n",
       "      <td>171495</td>\n",
       "      <td>Cosmos</td>\n",
       "      <td>(no genres listed)</td>\n",
       "      <td>599</td>\n",
       "      <td>4.0</td>\n",
       "      <td>1519116912</td>\n",
       "    </tr>\n",
       "    <tr>\n",
       "      <th>273519</th>\n",
       "      <td>171631</td>\n",
       "      <td>Maria Bamford: Old Baby</td>\n",
       "      <td>(no genres listed)</td>\n",
       "      <td>111</td>\n",
       "      <td>1.0</td>\n",
       "      <td>1517440909</td>\n",
       "    </tr>\n",
       "    <tr>\n",
       "      <th>273569</th>\n",
       "      <td>171891</td>\n",
       "      <td>Generation Iron 2</td>\n",
       "      <td>(no genres listed)</td>\n",
       "      <td>111</td>\n",
       "      <td>3.5</td>\n",
       "      <td>1517440199</td>\n",
       "    </tr>\n",
       "    <tr>\n",
       "      <th>273908</th>\n",
       "      <td>176601</td>\n",
       "      <td>Black Mirror</td>\n",
       "      <td>(no genres listed)</td>\n",
       "      <td>62</td>\n",
       "      <td>5.0</td>\n",
       "      <td>1525795252</td>\n",
       "    </tr>\n",
       "  </tbody>\n",
       "</table>\n",
       "</div>"
      ],
      "text/plain": [
       "        movieId                                              title  \\\n",
       "216811    40697                                          Babylon 5   \n",
       "216812    40697                                          Babylon 5   \n",
       "271160   140956                                   Ready Player One   \n",
       "271161   140956                                   Ready Player One   \n",
       "271162   140956                                   Ready Player One   \n",
       "271163   140956                                   Ready Player One   \n",
       "271164   140956                                   Ready Player One   \n",
       "271165   140956                                   Ready Player One   \n",
       "271166   140956                                   Ready Player One   \n",
       "271167   140956                                   Ready Player One   \n",
       "271168   140956                                   Ready Player One   \n",
       "271169   140956                                   Ready Player One   \n",
       "271170   140956                                   Ready Player One   \n",
       "271171   140956                                   Ready Player One   \n",
       "271417   143410                                         Hyena Road   \n",
       "271539   147250  The Adventures of Sherlock Holmes and Doctor W...   \n",
       "271701   149334                                  Nocturnal Animals   \n",
       "271702   149334                                  Nocturnal Animals   \n",
       "272157   156605                                           Paterson   \n",
       "272662   162414                                          Moonlight   \n",
       "273181   167570                                             The OA   \n",
       "273517   171495                                             Cosmos   \n",
       "273518   171495                                             Cosmos   \n",
       "273519   171631                            Maria Bamford: Old Baby   \n",
       "273569   171891                                  Generation Iron 2   \n",
       "273908   176601                                       Black Mirror   \n",
       "\n",
       "                    genres  userId  rating   timestamp  \n",
       "216811              Sci-Fi     210     4.0  1527266191  \n",
       "216812              Sci-Fi     528     0.5  1391736467  \n",
       "271160              Action     209     3.5  1524522239  \n",
       "271161              Action     305     4.5  1533043577  \n",
       "271162              Action     380     3.0  1534176158  \n",
       "271163              Action     514     3.0  1533946119  \n",
       "271164              Sci-Fi     209     3.5  1524522239  \n",
       "271165              Sci-Fi     305     4.5  1533043577  \n",
       "271166              Sci-Fi     380     3.0  1534176158  \n",
       "271167              Sci-Fi     514     3.0  1533946119  \n",
       "271168            Thriller     209     3.5  1524522239  \n",
       "271169            Thriller     305     4.5  1533043577  \n",
       "271170            Thriller     380     3.0  1534176158  \n",
       "271171            Thriller     514     3.0  1533946119  \n",
       "271417  (no genres listed)     448     2.0  1474224802  \n",
       "271539  (no genres listed)     105     5.0  1526207354  \n",
       "271701               Drama     306     3.0  1518380372  \n",
       "271702            Thriller     306     3.0  1518380372  \n",
       "272157  (no genres listed)     567     4.5  1525283448  \n",
       "272662               Drama     462     5.0  1478489531  \n",
       "273181  (no genres listed)     414     4.0  1511535836  \n",
       "273517  (no genres listed)     318     5.0  1516826406  \n",
       "273518  (no genres listed)     599     4.0  1519116912  \n",
       "273519  (no genres listed)     111     1.0  1517440909  \n",
       "273569  (no genres listed)     111     3.5  1517440199  \n",
       "273908  (no genres listed)      62     5.0  1525795252  "
      ]
     },
     "execution_count": 11,
     "metadata": {},
     "output_type": "execute_result"
    }
   ],
   "source": [
    "movie_rating_df[movie_rating_df['title'].str.contains('\\w$', regex=True)]"
   ]
  },
  {
   "cell_type": "code",
   "execution_count": 12,
   "id": "8f16c14a-261c-4789-9e12-c51933e328f0",
   "metadata": {},
   "outputs": [
    {
     "data": {
      "text/plain": [
       "26"
      ]
     },
     "execution_count": 12,
     "metadata": {},
     "output_type": "execute_result"
    }
   ],
   "source": [
    "movie_rating_df[movie_rating_df['title'].str.contains('\\w$', regex=True)]['title'].count()"
   ]
  },
  {
   "cell_type": "markdown",
   "id": "72d0b169-f1f9-4679-9d37-94cfe31158e2",
   "metadata": {},
   "source": [
    "#### Split Title Into Title And Year"
   ]
  },
  {
   "cell_type": "code",
   "execution_count": 13,
   "id": "c60a29b9-c089-457e-bd69-a9314a61e678",
   "metadata": {},
   "outputs": [],
   "source": [
    "movie_rating_df = movie_rating_df.assign(year=0)"
   ]
  },
  {
   "cell_type": "code",
   "execution_count": 14,
   "id": "b6387a25-c63f-4b83-bee8-8f379cea2e05",
   "metadata": {},
   "outputs": [],
   "source": [
    "def split_title_year(row):\n",
    "    value = re.findall('^(.*) \\((\\d*)\\)', row['title'])\n",
    "    if (len(value) > 0):\n",
    "        row['title'] = value[0][0]\n",
    "        row['year'] = value[0][1]\n",
    "    else:\n",
    "        row['year'] = 0\n",
    "    return row"
   ]
  },
  {
   "cell_type": "code",
   "execution_count": 15,
   "id": "ee6b54b1-ec69-4641-91db-d4b81e260f04",
   "metadata": {},
   "outputs": [],
   "source": [
    "movie_rating_df[movie_rating_df['title'].str.contains('\\w$', regex=True) == False] = movie_rating_df[movie_rating_df['title'].str.contains('\\w$', regex=True) == False].apply(split_title_year, axis=1)"
   ]
  },
  {
   "cell_type": "code",
   "execution_count": 16,
   "id": "ef0afbb2-58cd-4c13-873e-8487662d647a",
   "metadata": {},
   "outputs": [
    {
     "data": {
      "text/html": [
       "<div>\n",
       "<style scoped>\n",
       "    .dataframe tbody tr th:only-of-type {\n",
       "        vertical-align: middle;\n",
       "    }\n",
       "\n",
       "    .dataframe tbody tr th {\n",
       "        vertical-align: top;\n",
       "    }\n",
       "\n",
       "    .dataframe thead th {\n",
       "        text-align: right;\n",
       "    }\n",
       "</style>\n",
       "<table border=\"1\" class=\"dataframe\">\n",
       "  <thead>\n",
       "    <tr style=\"text-align: right;\">\n",
       "      <th></th>\n",
       "      <th>movieId</th>\n",
       "      <th>title</th>\n",
       "      <th>genres</th>\n",
       "      <th>userId</th>\n",
       "      <th>rating</th>\n",
       "      <th>timestamp</th>\n",
       "      <th>year</th>\n",
       "    </tr>\n",
       "  </thead>\n",
       "  <tbody>\n",
       "    <tr>\n",
       "      <th>0</th>\n",
       "      <td>1</td>\n",
       "      <td>Toy Story</td>\n",
       "      <td>Adventure</td>\n",
       "      <td>1</td>\n",
       "      <td>4.0</td>\n",
       "      <td>964982703</td>\n",
       "      <td>1995</td>\n",
       "    </tr>\n",
       "    <tr>\n",
       "      <th>1</th>\n",
       "      <td>1</td>\n",
       "      <td>Toy Story</td>\n",
       "      <td>Adventure</td>\n",
       "      <td>5</td>\n",
       "      <td>4.0</td>\n",
       "      <td>847434962</td>\n",
       "      <td>1995</td>\n",
       "    </tr>\n",
       "    <tr>\n",
       "      <th>2</th>\n",
       "      <td>1</td>\n",
       "      <td>Toy Story</td>\n",
       "      <td>Adventure</td>\n",
       "      <td>7</td>\n",
       "      <td>4.5</td>\n",
       "      <td>1106635946</td>\n",
       "      <td>1995</td>\n",
       "    </tr>\n",
       "    <tr>\n",
       "      <th>3</th>\n",
       "      <td>1</td>\n",
       "      <td>Toy Story</td>\n",
       "      <td>Adventure</td>\n",
       "      <td>15</td>\n",
       "      <td>2.5</td>\n",
       "      <td>1510577970</td>\n",
       "      <td>1995</td>\n",
       "    </tr>\n",
       "    <tr>\n",
       "      <th>4</th>\n",
       "      <td>1</td>\n",
       "      <td>Toy Story</td>\n",
       "      <td>Adventure</td>\n",
       "      <td>17</td>\n",
       "      <td>4.5</td>\n",
       "      <td>1305696483</td>\n",
       "      <td>1995</td>\n",
       "    </tr>\n",
       "    <tr>\n",
       "      <th>...</th>\n",
       "      <td>...</td>\n",
       "      <td>...</td>\n",
       "      <td>...</td>\n",
       "      <td>...</td>\n",
       "      <td>...</td>\n",
       "      <td>...</td>\n",
       "      <td>...</td>\n",
       "    </tr>\n",
       "    <tr>\n",
       "      <th>274475</th>\n",
       "      <td>193583</td>\n",
       "      <td>No Game No Life: Zero</td>\n",
       "      <td>Fantasy</td>\n",
       "      <td>184</td>\n",
       "      <td>3.5</td>\n",
       "      <td>1537109545</td>\n",
       "      <td>2017</td>\n",
       "    </tr>\n",
       "    <tr>\n",
       "      <th>274476</th>\n",
       "      <td>193585</td>\n",
       "      <td>Flint</td>\n",
       "      <td>Drama</td>\n",
       "      <td>184</td>\n",
       "      <td>3.5</td>\n",
       "      <td>1537109805</td>\n",
       "      <td>2017</td>\n",
       "    </tr>\n",
       "    <tr>\n",
       "      <th>274477</th>\n",
       "      <td>193587</td>\n",
       "      <td>Bungo Stray Dogs: Dead Apple</td>\n",
       "      <td>Action</td>\n",
       "      <td>184</td>\n",
       "      <td>3.5</td>\n",
       "      <td>1537110021</td>\n",
       "      <td>2018</td>\n",
       "    </tr>\n",
       "    <tr>\n",
       "      <th>274478</th>\n",
       "      <td>193587</td>\n",
       "      <td>Bungo Stray Dogs: Dead Apple</td>\n",
       "      <td>Animation</td>\n",
       "      <td>184</td>\n",
       "      <td>3.5</td>\n",
       "      <td>1537110021</td>\n",
       "      <td>2018</td>\n",
       "    </tr>\n",
       "    <tr>\n",
       "      <th>274479</th>\n",
       "      <td>193609</td>\n",
       "      <td>Andrew Dice Clay: Dice Rules</td>\n",
       "      <td>Comedy</td>\n",
       "      <td>331</td>\n",
       "      <td>4.0</td>\n",
       "      <td>1537157606</td>\n",
       "      <td>1991</td>\n",
       "    </tr>\n",
       "  </tbody>\n",
       "</table>\n",
       "<p>274480 rows × 7 columns</p>\n",
       "</div>"
      ],
      "text/plain": [
       "        movieId                         title     genres  userId  rating  \\\n",
       "0             1                     Toy Story  Adventure       1     4.0   \n",
       "1             1                     Toy Story  Adventure       5     4.0   \n",
       "2             1                     Toy Story  Adventure       7     4.5   \n",
       "3             1                     Toy Story  Adventure      15     2.5   \n",
       "4             1                     Toy Story  Adventure      17     4.5   \n",
       "...         ...                           ...        ...     ...     ...   \n",
       "274475   193583         No Game No Life: Zero    Fantasy     184     3.5   \n",
       "274476   193585                         Flint      Drama     184     3.5   \n",
       "274477   193587  Bungo Stray Dogs: Dead Apple     Action     184     3.5   \n",
       "274478   193587  Bungo Stray Dogs: Dead Apple  Animation     184     3.5   \n",
       "274479   193609  Andrew Dice Clay: Dice Rules     Comedy     331     4.0   \n",
       "\n",
       "         timestamp  year  \n",
       "0        964982703  1995  \n",
       "1        847434962  1995  \n",
       "2       1106635946  1995  \n",
       "3       1510577970  1995  \n",
       "4       1305696483  1995  \n",
       "...            ...   ...  \n",
       "274475  1537109545  2017  \n",
       "274476  1537109805  2017  \n",
       "274477  1537110021  2018  \n",
       "274478  1537110021  2018  \n",
       "274479  1537157606  1991  \n",
       "\n",
       "[274480 rows x 7 columns]"
      ]
     },
     "execution_count": 16,
     "metadata": {},
     "output_type": "execute_result"
    }
   ],
   "source": [
    "movie_rating_df"
   ]
  },
  {
   "cell_type": "code",
   "execution_count": 17,
   "id": "5b1e351c-2521-446b-9bf6-d53c6a7ce5e3",
   "metadata": {},
   "outputs": [
    {
     "data": {
      "text/plain": [
       "movieId      0\n",
       "title        0\n",
       "genres       0\n",
       "userId       0\n",
       "rating       0\n",
       "timestamp    0\n",
       "year         0\n",
       "dtype: int64"
      ]
     },
     "execution_count": 17,
     "metadata": {},
     "output_type": "execute_result"
    }
   ],
   "source": [
    "movie_rating_df.isna().sum()"
   ]
  },
  {
   "cell_type": "code",
   "execution_count": 18,
   "id": "bfd07025-aca1-434b-8291-3eb0ccf82516",
   "metadata": {},
   "outputs": [],
   "source": [
    "def fill_na_title(row):\n",
    "    print(row['movieId'])\n",
    "    print(movie_df[movie_df['movieId'] == 27008]['title'])\n",
    "    # print(movie_df[movie_df['movieId'] == row['movieId']]['title'])\n",
    "    # row['title'] = movie_df[movie_df['movieId'] == row['movieId']]['title']"
   ]
  },
  {
   "cell_type": "code",
   "execution_count": 19,
   "id": "80ec91fe-6913-4aba-b6f2-16635fe7dfd5",
   "metadata": {},
   "outputs": [
    {
     "data": {
      "text/html": [
       "<div>\n",
       "<style scoped>\n",
       "    .dataframe tbody tr th:only-of-type {\n",
       "        vertical-align: middle;\n",
       "    }\n",
       "\n",
       "    .dataframe tbody tr th {\n",
       "        vertical-align: top;\n",
       "    }\n",
       "\n",
       "    .dataframe thead th {\n",
       "        text-align: right;\n",
       "    }\n",
       "</style>\n",
       "<table border=\"1\" class=\"dataframe\">\n",
       "  <thead>\n",
       "    <tr style=\"text-align: right;\">\n",
       "      <th></th>\n",
       "      <th>movieId</th>\n",
       "      <th>title</th>\n",
       "      <th>genres</th>\n",
       "      <th>userId</th>\n",
       "      <th>rating</th>\n",
       "      <th>timestamp</th>\n",
       "      <th>year</th>\n",
       "    </tr>\n",
       "  </thead>\n",
       "  <tbody>\n",
       "  </tbody>\n",
       "</table>\n",
       "</div>"
      ],
      "text/plain": [
       "Empty DataFrame\n",
       "Columns: [movieId, title, genres, userId, rating, timestamp, year]\n",
       "Index: []"
      ]
     },
     "execution_count": 19,
     "metadata": {},
     "output_type": "execute_result"
    }
   ],
   "source": [
    "movie_rating_df[movie_rating_df.isna().any(axis=1)].apply(fill_na_title, axis=1)"
   ]
  },
  {
   "cell_type": "markdown",
   "id": "beddc971-1a46-43cb-96c9-cc2bc6e058e7",
   "metadata": {},
   "source": [
    "#### Convert Year Data Type As Integer"
   ]
  },
  {
   "cell_type": "code",
   "execution_count": 20,
   "id": "bad511e5-7a73-47ca-bb99-e31f28d94565",
   "metadata": {},
   "outputs": [],
   "source": [
    "movie_rating_df['year'] = movie_rating_df['year'].astype('int32')"
   ]
  },
  {
   "cell_type": "markdown",
   "id": "b2b122c8-426d-421d-ba83-5ca4d5d9be55",
   "metadata": {},
   "source": [
    "#### Feature Data Type"
   ]
  },
  {
   "cell_type": "code",
   "execution_count": 21,
   "id": "a75fd84b-6604-421b-bc69-2b1dbc2d2a4d",
   "metadata": {},
   "outputs": [
    {
     "name": "stdout",
     "output_type": "stream",
     "text": [
      "<class 'pandas.core.frame.DataFrame'>\n",
      "Int64Index: 274480 entries, 0 to 274479\n",
      "Data columns (total 7 columns):\n",
      " #   Column     Non-Null Count   Dtype  \n",
      "---  ------     --------------   -----  \n",
      " 0   movieId    274480 non-null  int64  \n",
      " 1   title      274480 non-null  object \n",
      " 2   genres     274480 non-null  object \n",
      " 3   userId     274480 non-null  int64  \n",
      " 4   rating     274480 non-null  float64\n",
      " 5   timestamp  274480 non-null  int64  \n",
      " 6   year       274480 non-null  int32  \n",
      "dtypes: float64(1), int32(1), int64(3), object(2)\n",
      "memory usage: 15.7+ MB\n"
     ]
    }
   ],
   "source": [
    "movie_rating_df.info()"
   ]
  },
  {
   "cell_type": "markdown",
   "id": "94f94e67-e87e-4f9a-87bd-237dfa79ddbd",
   "metadata": {},
   "source": [
    "#### Central Tendency for Movie Rating"
   ]
  },
  {
   "cell_type": "code",
   "execution_count": 22,
   "id": "e00bb330-7338-4359-b4af-5c7534e30a40",
   "metadata": {},
   "outputs": [
    {
     "data": {
      "text/plain": [
       "count    274480.00000\n",
       "mean          3.51780\n",
       "std           1.03470\n",
       "min           0.50000\n",
       "25%           3.00000\n",
       "50%           3.50000\n",
       "75%           4.00000\n",
       "max           5.00000\n",
       "Name: rating, dtype: object"
      ]
     },
     "execution_count": 22,
     "metadata": {},
     "output_type": "execute_result"
    }
   ],
   "source": [
    "movie_rating_df['rating'].describe().apply(\"{0:.5f}\".format)"
   ]
  },
  {
   "cell_type": "markdown",
   "id": "589c7e35-5080-4f17-8460-04d5cfb0b8f3",
   "metadata": {},
   "source": [
    "#### Total Movies"
   ]
  },
  {
   "cell_type": "code",
   "execution_count": 23,
   "id": "d124e1f7-b8c9-40ec-adfd-af2fc09f080f",
   "metadata": {},
   "outputs": [
    {
     "data": {
      "text/plain": [
       "9446"
      ]
     },
     "execution_count": 23,
     "metadata": {},
     "output_type": "execute_result"
    }
   ],
   "source": [
    "len(movie_rating_df['title'].unique())"
   ]
  },
  {
   "cell_type": "markdown",
   "id": "8156a04e-d04c-4562-97c2-2ec8ee4e3d66",
   "metadata": {},
   "source": [
    "#### Total User Who Gave Ratings"
   ]
  },
  {
   "cell_type": "code",
   "execution_count": 24,
   "id": "729fdf35-54e4-4c5a-b024-f475106ac312",
   "metadata": {},
   "outputs": [
    {
     "data": {
      "text/plain": [
       "610"
      ]
     },
     "execution_count": 24,
     "metadata": {},
     "output_type": "execute_result"
    }
   ],
   "source": [
    "len(movie_rating_df['userId'].unique())"
   ]
  },
  {
   "cell_type": "markdown",
   "id": "e5b23ea3-5397-4077-8de6-6238d151202b",
   "metadata": {},
   "source": [
    "#### Graph Total Movie Per Genres"
   ]
  },
  {
   "cell_type": "code",
   "execution_count": 94,
   "id": "70045934-7656-4cbf-9ce9-02d945deb475",
   "metadata": {},
   "outputs": [
    {
     "data": {
      "text/plain": [
       "<AxesSubplot:>"
      ]
     },
     "execution_count": 94,
     "metadata": {},
     "output_type": "execute_result"
    },
    {
     "data": {
      "image/png": "[encoded data removed]",
      "text/plain": [
       "<Figure size 720x720 with 1 Axes>"
      ]
     },
     "metadata": {
      "needs_background": "light"
     },
     "output_type": "display_data"
    }
   ],
   "source": [
    "movie_rating_df['genres'].value_counts().plot(x='genres', y='count', kind='bar', figsize=(10, 10))"
   ]
  },
  {
   "cell_type": "markdown",
   "id": "b46818c6-dee7-4b36-aecc-78ec84d0aec3",
   "metadata": {},
   "source": [
    "#### Graph Histogram Rating"
   ]
  },
  {
   "cell_type": "code",
   "execution_count": 104,
   "id": "c901ab00-dea4-4a5a-bc23-2f0d7abd8263",
   "metadata": {},
   "outputs": [
    {
     "data": {
      "text/plain": [
       "array([[<AxesSubplot:title={'center':'rating'}>]], dtype=object)"
      ]
     },
     "execution_count": 104,
     "metadata": {},
     "output_type": "execute_result"
    },
    {
     "data": {
      "image/png": "[encoded data removed]",
      "text/plain": [
       "<Figure size 360x360 with 1 Axes>"
      ]
     },
     "metadata": {
      "needs_background": "light"
     },
     "output_type": "display_data"
    }
   ],
   "source": [
    "plt.rcParams[\"figure.figsize\"] = [5, 5]\n",
    "movie_rating_df.hist('rating', range=[0.5, 5])"
   ]
  },
  {
   "cell_type": "markdown",
   "id": "16fcf69a-b414-4b40-8813-e323cee1c6aa",
   "metadata": {},
   "source": [
    "#### Average Rating For Each Genres"
   ]
  },
  {
   "cell_type": "code",
   "execution_count": 105,
   "id": "8ac3f293-88ea-48c6-ae7f-aa8967d143d3",
   "metadata": {},
   "outputs": [
    {
     "data": {
      "text/plain": [
       "<AxesSubplot:xlabel='genres'>"
      ]
     },
     "execution_count": 105,
     "metadata": {},
     "output_type": "execute_result"
    },
    {
     "data": {
      "image/png": "[encoded data removed]",
      "text/plain": [
       "<Figure size 720x360 with 1 Axes>"
      ]
     },
     "metadata": {
      "needs_background": "light"
     },
     "output_type": "display_data"
    }
   ],
   "source": [
    "plt.rcParams[\"figure.figsize\"] = [10, 5]\n",
    "movie_rating_df.groupby('genres').mean().plot(y='rating', kind='bar')"
   ]
  },
  {
   "cell_type": "markdown",
   "id": "932881eb-fad1-41f0-b36a-5fc04bcd668c",
   "metadata": {
    "tags": []
   },
   "source": [
    "#### Top 50 Rated Movies"
   ]
  },
  {
   "cell_type": "code",
   "execution_count": 117,
   "id": "42bd0d2a-1067-49a1-92bf-2192fee438c2",
   "metadata": {},
   "outputs": [
    {
     "data": {
      "text/plain": [
       "<AxesSubplot:ylabel='title'>"
      ]
     },
     "execution_count": 117,
     "metadata": {},
     "output_type": "execute_result"
    },
    {
     "data": {
      "image/png": "[encoded data removed]",
      "text/plain": [
       "<Figure size 720x1800 with 1 Axes>"
      ]
     },
     "metadata": {
      "needs_background": "light"
     },
     "output_type": "display_data"
    }
   ],
   "source": [
    "plt.rcParams[\"figure.figsize\"] = [10, 25]\n",
    "movie_rating_df.groupby('title').mean().sort_values('rating', ascending=False)[:50].plot.barh(y='rating', xlim=(0, 5))"
   ]
  },
  {
   "cell_type": "markdown",
   "id": "12807997-c81c-4953-bc29-e387d08b3c51",
   "metadata": {},
   "source": [
    "#### Least 50 Rated Movies"
   ]
  },
  {
   "cell_type": "code",
   "execution_count": 116,
   "id": "5d3914b0-3643-435f-852f-06d7954f8800",
   "metadata": {},
   "outputs": [
    {
     "data": {
      "text/plain": [
       "<AxesSubplot:ylabel='title'>"
      ]
     },
     "execution_count": 116,
     "metadata": {},
     "output_type": "execute_result"
    },
    {
     "data": {
      "image/png": "[encoded data removed]",
      "text/plain": [
       "<Figure size 720x1800 with 1 Axes>"
      ]
     },
     "metadata": {
      "needs_background": "light"
     },
     "output_type": "display_data"
    }
   ],
   "source": [
    "plt.rcParams[\"figure.figsize\"] = [10, 25]\n",
    "movie_rating_df.groupby('title').mean().sort_values('rating')[:50].plot.barh(y='rating', xlim=(0, 5))"
   ]
  },
  {
   "cell_type": "markdown",
   "id": "9ae7ae3a-49f3-4450-9c4f-53ad7f045252",
   "metadata": {},
   "source": [
    "#### Total Movies Per Year"
   ]
  },
  {
   "cell_type": "code",
   "execution_count": 126,
   "id": "f3c074dc-73cd-4f78-9685-7fded6c0f552",
   "metadata": {},
   "outputs": [
    {
     "data": {
      "text/plain": [
       "<AxesSubplot:ylabel='Year'>"
      ]
     },
     "execution_count": 126,
     "metadata": {},
     "output_type": "execute_result"
    },
    {
     "data": {
      "image/png": "[encoded data removed]",
      "text/plain": [
       "<Figure size 720x1800 with 1 Axes>"
      ]
     },
     "metadata": {
      "needs_background": "light"
     },
     "output_type": "display_data"
    }
   ],
   "source": [
    "movie_rating_df['year'].value_counts().plot.barh(xlabel=\"Year\")"
   ]
  },
  {
   "cell_type": "code",
   "execution_count": null,
   "id": "36517e87-a0cf-4789-be2b-eb2a6cdb15de",
   "metadata": {},
   "outputs": [],
   "source": []
  }
 ],
 "metadata": {
  "kernelspec": {
   "display_name": "Python 3 (ipykernel)",
   "language": "python",
   "name": "python3"
  },
  "language_info": {
   "codemirror_mode": {
    "name": "ipython",
    "version": 3
   },
   "file_extension": ".py",
   "mimetype": "text/x-python",
   "name": "python",
   "nbconvert_exporter": "python",
   "pygments_lexer": "ipython3",
   "version": "3.7.9"
  }
 },
 "nbformat": 4,
 "nbformat_minor": 5
}
